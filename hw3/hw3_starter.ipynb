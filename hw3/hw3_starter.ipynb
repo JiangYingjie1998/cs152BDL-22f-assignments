{
 "cells": [
  {
   "cell_type": "markdown",
   "metadata": {},
   "source": [
    "# Starter code - HW 3: BNN + BBVI - YOUR NAME HERE\n",
    "\n",
    "For the original HW3 Instructions from Fall 2022:\n",
    "\n",
    "https://www.cs.tufts.edu/cs/152BDL/2022f/hw3.html"
   ]
  },
  {
   "cell_type": "markdown",
   "metadata": {},
   "source": [
    "#### Collaboration statement\n",
    "\n",
    "My name is TODO FILL, and I worked with TODO FILL"
   ]
  },
  {
   "cell_type": "markdown",
   "metadata": {},
   "source": [
    "# Clickable Table of Contents\n",
    "\n",
    "#### Problem 0: Implementing BBVI\n",
    "\n",
    "* 0a: [sample_nn_params_from_q](#sample_nn_params_from_q)\n",
    "* 0b: [calc_logpdf_q](#calc_logpdf_q)\n",
    "* 0c: [calc_elbo_and_grad_from_mc_samples_via_scorefunc_trick](#calc_elbo_and_grad_from_mc_samples_via_scorefunc_trick)\n",
    "* 0d: [optimize_q_via_stochastic_gradient_ascent](#optimize_q_via_stochastic_gradient_ascent)\n",
    "\n",
    "#### Problem 1: Diagnostic plots of estimated ELBO and gradients\n",
    "\n",
    "Verifies your implementation of `calc_logpdf_q` and `calc_elbo_and_grad_from_mc_samples_via_scorefunc_trick`\n",
    "\n",
    "* [Problem 1a](#problem-1a)\n",
    "* [Problem 1b](#problem-1b)\n",
    "* [Problem 1c](#problem-1c)\n",
    "* [Problem 1d](#problem-1d)\n",
    "* [Problem 1e](#problem-1e)\n",
    "\n",
    "#### Problem 2: Run BBVI on COVID-19 data with arch [ ]\n",
    "\n",
    "Uses `optimize_q_via_stochastic_gradient_ascent`\n",
    "\n",
    "* [Fig 2a with caption](#problem-2a)\n",
    "* [Fig 2b with caption](#problem-2b)\n",
    "\n",
    "#### Problem 3: Run BBVI on COVID-19 data with arch [8]\n",
    "\n",
    "Uses `optimize_q_via_stochastic_gradient_ascent`\n",
    "\n",
    "* [Fig 3a with caption](#problem-3a)\n",
    "* [Fig 3b with caption](#problem-3b)"
   ]
  },
  {
   "cell_type": "markdown",
   "metadata": {},
   "source": [
    "# Setup\n",
    "\n",
    "## Import Statements"
   ]
  },
  {
   "cell_type": "code",
   "execution_count": 1,
   "metadata": {},
   "outputs": [],
   "source": [
    "# Import numpy and other basic libraries\n",
    "import numpy as np\n",
    "import pandas as pd\n",
    "import copy, datetime, time, os, platform"
   ]
  },
  {
   "cell_type": "code",
   "execution_count": 2,
   "metadata": {},
   "outputs": [],
   "source": [
    "## Import JAX\n",
    "import jax\n",
    "import jax.numpy as jnp\n",
    "import jax.scipy.stats as jstats"
   ]
  },
  {
   "cell_type": "code",
   "execution_count": 3,
   "metadata": {},
   "outputs": [],
   "source": [
    "# Import packages for plotting\n",
    "import matplotlib\n",
    "import matplotlib.pyplot as plt\n",
    "import seaborn as sns\n",
    "sns.set_style(\"whitegrid\")\n",
    "sns.set_context(\"notebook\", font_scale=1.25)"
   ]
  },
  {
   "cell_type": "markdown",
   "metadata": {},
   "source": [
    "## Print system info\n",
    "\n",
    "Useful for debugging"
   ]
  },
  {
   "cell_type": "code",
   "execution_count": 4,
   "metadata": {},
   "outputs": [
    {
     "name": "stdout",
     "output_type": "stream",
     "text": [
      "========== Information about OS and CPU ==========\n",
      "Node Name: tufts-wifi-10-5-4-240.eecs.tufts.edu\n",
      "System: Darwin\n",
      "Version: Darwin Kernel Version 20.6.0: Tue Feb 22 21:10:41 PST 2022; root:xnu-7195.141.26~1/RELEASE_X86_64\n",
      "Machine: x86_64  Processor: i386\n",
      "Num cores:  8\n"
     ]
    }
   ],
   "source": [
    "uname = platform.uname()\n",
    "B = 10\n",
    "print(\"=\"*B, \"Information about OS and CPU\", \"=\"*B)\n",
    "print(f\"Node Name: {uname.node}\")\n",
    "print(f\"System: {uname.system}\")\n",
    "print(f\"Version: {uname.version}\")\n",
    "print(f\"Machine: {uname.machine}  Processor: {uname.processor}\")\n",
    "print(\"Num cores: \", os.cpu_count())"
   ]
  },
  {
   "cell_type": "code",
   "execution_count": 5,
   "metadata": {},
   "outputs": [
    {
     "name": "stdout",
     "output_type": "stream",
     "text": [
      "========== Packages in local env ==========\n",
      "       numpy 1.22.4\n",
      "         jax 0.3.17\n",
      "  matplotlib 3.5.2\n",
      "     seaborn 0.11.2\n"
     ]
    }
   ],
   "source": [
    "print(\"=\"*B, \"Packages in local env\", \"=\"*B)\n",
    "for pkg in [np, jax, matplotlib, sns]:\n",
    "  print(\"%12s %s\" % (pkg.__name__, pkg.__version__))"
   ]
  },
  {
   "cell_type": "markdown",
   "metadata": {},
   "source": [
    "## Colab Setup\n",
    "\n",
    "### If you are on Google Colab, set `using_colab = True'\n",
    "\n",
    "Then will clone the github and give you access to the extra .py files and the dataset CSV in starter code\n",
    "\n",
    "### If not, don't need to do anything as long as you're running in the hw2 directory from starter code\n"
   ]
  },
  {
   "cell_type": "code",
   "execution_count": 81,
   "metadata": {},
   "outputs": [],
   "source": [
    "using_colab = False"
   ]
  },
  {
   "cell_type": "code",
   "execution_count": 82,
   "metadata": {},
   "outputs": [],
   "source": [
    "if using_colab:\n",
    "    if not os.path.exists('cs152BDL-22f-assignments/hw3/'):\n",
    "        !git clone https://github.com/tufts-ml-courses/cs152BDL-22f-assignments.git \n",
    "    os.chdir('cs152BDL-22f-assignments/hw3/')"
   ]
  },
  {
   "cell_type": "code",
   "execution_count": 83,
   "metadata": {},
   "outputs": [
    {
     "name": "stdout",
     "output_type": "stream",
     "text": [
      "neural_net_regression_model.py        pytree_arithmetic_utils.py\r\n",
      "neural_net_utils.py                   viz_utils_for_posterior_predictive.py\r\n"
     ]
    }
   ],
   "source": [
    "# List .py files in current directory, for debugging purposes\n",
    "# Should see neural_net_utils.py and other .py files from starter code repo\n",
    "\n",
    "!ls *.py"
   ]
  },
  {
   "cell_type": "code",
   "execution_count": 84,
   "metadata": {},
   "outputs": [
    {
     "name": "stdout",
     "output_type": "stream",
     "text": [
      "avg_deaths_per_day_in_middlesex_ma_2021__test.csv\r\n",
      "avg_deaths_per_day_in_middlesex_ma_2021__train.csv\r\n",
      "middlesex_ma_2021_deaths.csv\r\n"
     ]
    }
   ],
   "source": [
    "# List .csv files in current directory, for debugging purposes\n",
    "# Should see the COVID-19 data file in the starter code repo\n",
    "\n",
    "!ls *.csv"
   ]
  },
  {
   "cell_type": "markdown",
   "metadata": {},
   "source": [
    "## Import utility functions from starter code's external .py files"
   ]
  },
  {
   "cell_type": "code",
   "execution_count": 6,
   "metadata": {},
   "outputs": [],
   "source": [
    "from pytree_arithmetic_utils import (\n",
    "    add_pytrees,\n",
    "    multiply_pytree_and_scalar,\n",
    "    subtract_pytree_and_scalar, subtract_pytrees)"
   ]
  },
  {
   "cell_type": "code",
   "execution_count": 7,
   "metadata": {},
   "outputs": [],
   "source": [
    "import neural_net_utils\n",
    "\n",
    "make_nn_params_as_list_of_dicts = neural_net_utils.make_nn_params_as_list_of_dicts\n",
    "pretty_print_nn_param_list = neural_net_utils.pretty_print_nn_param_list\n",
    "predict_f_given_x = neural_net_utils.predict_f_given_x"
   ]
  },
  {
   "cell_type": "code",
   "execution_count": 8,
   "metadata": {},
   "outputs": [],
   "source": [
    "import neural_net_regression_model as model\n",
    "\n",
    "calc_logpdf_likelihood = model.calc_logpdf_likelihood\n",
    "calc_logpdf_prior = model.calc_logpdf_prior\n",
    "sample_nn_params_from_prior = model.sample_nn_params_from_prior\n",
    "\n",
    "fast_logpdf_likelihood = jax.jit(calc_logpdf_likelihood)\n",
    "fast_logpdf_prior = jax.jit(calc_logpdf_prior)"
   ]
  },
  {
   "cell_type": "code",
   "execution_count": 9,
   "metadata": {},
   "outputs": [],
   "source": [
    "import viz_utils_for_posterior_predictive as viz_utils"
   ]
  },
  {
   "cell_type": "markdown",
   "metadata": {},
   "source": [
    "## Fix model hyperparameters"
   ]
  },
  {
   "cell_type": "code",
   "execution_count": 10,
   "metadata": {},
   "outputs": [],
   "source": [
    "model_hypers = {\n",
    "    'w_mean':0.0, 'b_mean':0.0, 'w_stddev':3.0, 'b_stddev':3.0,\n",
    "    'tau':0.3}"
   ]
  },
  {
   "cell_type": "code",
   "execution_count": 11,
   "metadata": {},
   "outputs": [],
   "source": [
    "W, H = 6, 4  # set width/height of each panel"
   ]
  },
  {
   "cell_type": "markdown",
   "metadata": {},
   "source": [
    "## Load COVID-19 data from Middlesex County, MA in 2021\n",
    "\n",
    "Source: NYTimes COVID-19 data on GitHub\n",
    "\n",
    "Distributed as part of HW3's starter code"
   ]
  },
  {
   "cell_type": "code",
   "execution_count": 12,
   "metadata": {},
   "outputs": [],
   "source": [
    "df = pd.read_csv('avg_deaths_per_day_in_middlesex_ma_2021__train.csv')"
   ]
  },
  {
   "cell_type": "code",
   "execution_count": 13,
   "metadata": {},
   "outputs": [],
   "source": [
    "raw_x_NF = df['days_since_211207'].astype(np.float32).values[:,np.newaxis].copy()\n",
    "raw_y_N = df['deaths_avg'].astype(np.float32).values.copy()"
   ]
  },
  {
   "cell_type": "code",
   "execution_count": 14,
   "metadata": {},
   "outputs": [],
   "source": [
    "def standardize_array_by_columns(a):\n",
    "    return (a - np.mean(a, axis=0, keepdims=1)) / np.std(a, axis=0, keepdims=1)\n",
    "\n",
    "standard_x_NF = standardize_array_by_columns(raw_x_NF)\n",
    "standard_y_N = standardize_array_by_columns(raw_y_N)"
   ]
  },
  {
   "cell_type": "code",
   "execution_count": 15,
   "metadata": {},
   "outputs": [
    {
     "data": {
      "image/png": "[encoded data removed]",
      "text/plain": [
       "<Figure size 936x288 with 2 Axes>"
      ]
     },
     "metadata": {
      "needs_background": "light"
     },
     "output_type": "display_data"
    }
   ],
   "source": [
    "_, axgrid = plt.subplots(nrows=1, ncols=2, figsize=(W*2+1, H),\n",
    "                         sharey=False, sharex=False)\n",
    "axgrid[0].plot(raw_x_NF, raw_y_N, 'ks');\n",
    "axgrid[0].set_xlabel('days')\n",
    "axgrid[0].set_ylabel('deaths')\n",
    "axgrid[1].plot(standard_x_NF, standard_y_N, 'ks');\n",
    "axgrid[1].set_xlabel('standardized days');\n",
    "axgrid[1].set_ylabel('standardized counts');\n",
    "\n",
    "plt.savefig('avg_deaths_per_day_before_after_standardization.png')"
   ]
  },
  {
   "cell_type": "code",
   "execution_count": 16,
   "metadata": {},
   "outputs": [],
   "source": [
    "# Use standardized data\n",
    "\n",
    "x_NF = 1.0 * standard_x_NF\n",
    "y_N = 1.0 * standard_y_N"
   ]
  },
  {
   "cell_type": "markdown",
   "metadata": {},
   "source": [
    "### Create test grid of x values (size T) to use to visualize predictions"
   ]
  },
  {
   "cell_type": "code",
   "execution_count": 17,
   "metadata": {},
   "outputs": [],
   "source": [
    "T = 501\n",
    "xrange = (np.max(x_NF) - np.min(x_NF))\n",
    "xlo = x_NF.min() - 0.1 * xrange\n",
    "xhi = x_NF.max() + 0.3 * xrange # show more forward in time\n",
    "x_grid_T = np.linspace(xlo, xhi, T)\n",
    "x_grid_T1 = x_grid_T.reshape((T,1))"
   ]
  },
  {
   "cell_type": "code",
   "execution_count": 18,
   "metadata": {},
   "outputs": [
    {
     "name": "stdout",
     "output_type": "stream",
     "text": [
      "[-1.87405863 -1.86467815 -1.85529767 -1.84591719 -1.83653671 -1.82715623\n",
      " -1.81777575 -1.80839527 -1.7990148  -1.78963432] ... [2.73175659 2.74113706 2.75051754 2.75989802 2.7692785  2.77865898\n",
      " 2.78803946 2.79741994 2.80680042 2.8161809 ]\n"
     ]
    }
   ],
   "source": [
    "print(x_grid_T[:10], '...', x_grid_T[-10:])"
   ]
  },
  {
   "cell_type": "markdown",
   "metadata": {},
   "source": [
    "## Softplus : Functions to transform from reals to positives\n",
    "\n",
    "Used to parameterize our standard deviations, as recommended in the Bayes-by-Backprop paper"
   ]
  },
  {
   "cell_type": "code",
   "execution_count": 19,
   "metadata": {},
   "outputs": [],
   "source": [
    "def softplus(a):\n",
    "    return jnp.log(1+jnp.exp(a))"
   ]
  },
  {
   "cell_type": "code",
   "execution_count": 20,
   "metadata": {},
   "outputs": [],
   "source": [
    "def invsoftplus(b):\n",
    "    return jnp.log(jnp.exp(b) - 1)"
   ]
  },
  {
   "cell_type": "markdown",
   "metadata": {},
   "source": [
    "Verify that `softplus` and `invsoftplus` really do invert one another, mapping an input back to its original value."
   ]
  },
  {
   "cell_type": "code",
   "execution_count": 21,
   "metadata": {},
   "outputs": [
    {
     "data": {
      "text/plain": [
       "DeviceArray(-3.0000005, dtype=float32, weak_type=True)"
      ]
     },
     "execution_count": 21,
     "metadata": {},
     "output_type": "execute_result"
    }
   ],
   "source": [
    "invsoftplus(softplus(-3.0))"
   ]
  },
  {
   "cell_type": "markdown",
   "metadata": {},
   "source": [
    "## Elementwise softplus of a pytree "
   ]
  },
  {
   "cell_type": "code",
   "execution_count": 22,
   "metadata": {},
   "outputs": [],
   "source": [
    "def softplus_of_pytree(pytree):\n",
    "    return jax.tree_map(lambda a: jax.nn.softplus(a), pytree)"
   ]
  },
  {
   "cell_type": "markdown",
   "metadata": {},
   "source": [
    "## Utility to fill pytree with draws from Normal "
   ]
  },
  {
   "cell_type": "code",
   "execution_count": 23,
   "metadata": {},
   "outputs": [],
   "source": [
    "def fill_q_params_with_draws_from_normal(\n",
    "        n_dims_input=1,\n",
    "        n_dims_output=1,\n",
    "        n_dims_per_hidden_list=[],\n",
    "        mean=0.0,\n",
    "        stddev=1.0,\n",
    "        random_state=101):\n",
    "    ''' Create pytree of parameters for q\n",
    "    \n",
    "    Args\n",
    "    ----\n",
    "    n_dims_input : int\n",
    "    n_dims_output : int\n",
    "    n_dims_per_hidden_list : list of int\n",
    "    mean : scalar float\n",
    "    stddev : scalar float\n",
    "    random_state : int or np.random.RandomState\n",
    "    \n",
    "    Returns\n",
    "    -------\n",
    "    m_params : Pytree\n",
    "    '''\n",
    "    if isinstance(random_state, int):\n",
    "        random_state = np.random.RandomState(random_state)\n",
    "    def fill_func(shape):\n",
    "        return random_state.normal(mean, stddev, size=shape)\n",
    "    return make_nn_params_as_list_of_dicts(\n",
    "        n_dims_input, n_dims_output, n_dims_per_hidden_list,\n",
    "        weight_fill_func=fill_func,\n",
    "        bias_fill_func=fill_func)\n",
    "    "
   ]
  },
  {
   "cell_type": "markdown",
   "metadata": {},
   "source": [
    "# Problem 0: Implementing BBVI"
   ]
  },
  {
   "cell_type": "markdown",
   "metadata": {},
   "source": [
    "<a id=\"sample_nn_params_from_q\"></a>\n",
    "\n",
    "## 0a: Write function to sample nn_params (as pytree) from q"
   ]
  },
  {
   "cell_type": "code",
   "execution_count": 24,
   "metadata": {},
   "outputs": [],
   "source": [
    "def sample_nn_params_from_q(\n",
    "        q_mean_params, q_realstddev_params,\n",
    "        random_state=42,\n",
    "        n_samples=1):\n",
    "    \"\"\" Sample values of weights/biases given a specific approx. posterior q\n",
    "    \n",
    "    Args\n",
    "    ----\n",
    "    q_mean_params : pytree\n",
    "    q_realstddev_params : pytree\n",
    "    n_samples : int\n",
    "    \n",
    "    Returns\n",
    "    -------\n",
    "    nn_params : list of pytree \n",
    "        Each element is a nn_params list-of-dicts\n",
    "    \"\"\"\n",
    "    if isinstance(random_state, int):\n",
    "        random_state = np.random.RandomState(random_state)\n",
    "        \n",
    "    all_nn_samples = list()\n",
    "    L = len(q_mean_params)\n",
    "    for sample_id in range(n_samples):\n",
    "        cur_nn_params = list()\n",
    "        for layer_id in range(L):\n",
    "            # TODO draw weights/biases for this layer from a Normal\n",
    "            # with mean determined by contents of q_mean_params\n",
    "            # with stddev determined by *transformation* of q_realstddev_params\n",
    "            # HINT: Look at softplus or softplus_of_pytree\n",
    "            \n",
    "            w_mean_UV = q_mean_params[layer_id]['w']\n",
    "            w_UV = np.zeros(w_mean_UV.shape) # FIXME draw from normal\n",
    "\n",
    "            b_mean_V = q_mean_params[layer_id]['b']\n",
    "            b_V = np.zeros(b_mean_V.shape) # FIXME draw from normal\n",
    "            \n",
    "            # w_UV is the sampled weights for this layer\n",
    "            # b_V is array of sampled biases for this layer\n",
    "            # Pack them away into our list-of-dicts pytree format\n",
    "            cur_nn_params.append(dict(w=w_UV, b=b_V))\n",
    "        all_nn_samples.append(cur_nn_params)\n",
    "    return all_nn_samples"
   ]
  },
  {
   "cell_type": "markdown",
   "metadata": {},
   "source": [
    "### Quick test of `sample_nn_params_from_q`"
   ]
  },
  {
   "cell_type": "code",
   "execution_count": 25,
   "metadata": {},
   "outputs": [
    {
     "name": "stdout",
     "output_type": "stream",
     "text": [
      "Layer 0\n",
      "  mean-of-w | shape    (1, 1) | [ 2.707]\n",
      "  mean-of-b | shape      (1,) | [ 0.628]\n"
     ]
    }
   ],
   "source": [
    "# 1) Create means from Normal \n",
    "q_mean_params = fill_q_params_with_draws_from_normal(\n",
    "    1, 1, [], mean=0.0, stddev=1.0, random_state=101)\n",
    "pretty_print_nn_param_list(q_mean_params, prefix='mean-of-')"
   ]
  },
  {
   "cell_type": "code",
   "execution_count": 26,
   "metadata": {},
   "outputs": [
    {
     "name": "stdout",
     "output_type": "stream",
     "text": [
      "Layer 0\n",
      "  rstd-of-w | shape    (1, 1) | [-2.235]\n",
      "  rstd-of-b | shape      (1,) | [-2.243]\n"
     ]
    }
   ],
   "source": [
    "# 2) Create realstddevs that typically map to a stddev around 0.1\n",
    "q_realstddev_params = fill_q_params_with_draws_from_normal(\n",
    "    1, 1, [], mean=invsoftplus(0.1), stddev=0.01, random_state=102)\n",
    "pretty_print_nn_param_list(q_realstddev_params, prefix='rstd-of-')"
   ]
  },
  {
   "cell_type": "code",
   "execution_count": 27,
   "metadata": {},
   "outputs": [
    {
     "name": "stdout",
     "output_type": "stream",
     "text": [
      "Layer 0\n",
      "  std-of-w | shape    (1, 1) | [ 0.102]\n",
      "  std-of-b | shape      (1,) | [ 0.101]\n"
     ]
    }
   ],
   "source": [
    "# 2b) Map realstddev values to stddev params\n",
    "pretty_print_nn_param_list(softplus_of_pytree(q_realstddev_params), prefix='std-of-')"
   ]
  },
  {
   "cell_type": "markdown",
   "metadata": {},
   "source": [
    "Now, use the above to draw 10 samples from q\n",
    "\n",
    "Use the method you just defined: `sample_nn_params_from_q`"
   ]
  },
  {
   "cell_type": "code",
   "execution_count": 28,
   "metadata": {},
   "outputs": [],
   "source": [
    "# 3) Draw 10 samples from q defined by the parameters above\n",
    "nn_samples_S = sample_nn_params_from_q(\n",
    "    q_mean_params, q_realstddev_params,\n",
    "    random_state=42,\n",
    "    n_samples=10)"
   ]
  },
  {
   "cell_type": "code",
   "execution_count": 29,
   "metadata": {},
   "outputs": [
    {
     "name": "stdout",
     "output_type": "stream",
     "text": [
      "==== SAMPLE 0\n",
      "Layer 0\n",
      "  w | shape    (1, 1) | [ 0.000]\n",
      "  b | shape      (1,) | [ 0.000]\n"
     ]
    }
   ],
   "source": [
    "print(\"==== SAMPLE 0\")\n",
    "pretty_print_nn_param_list(nn_samples_S[0])"
   ]
  },
  {
   "cell_type": "code",
   "execution_count": 30,
   "metadata": {},
   "outputs": [
    {
     "name": "stdout",
     "output_type": "stream",
     "text": [
      "==== SAMPLE 1\n",
      "Layer 0\n",
      "  w | shape    (1, 1) | [ 0.000]\n",
      "  b | shape      (1,) | [ 0.000]\n"
     ]
    }
   ],
   "source": [
    "print(\"==== SAMPLE 1\")\n",
    "pretty_print_nn_param_list(nn_samples_S[1])"
   ]
  },
  {
   "cell_type": "markdown",
   "metadata": {},
   "source": [
    "Your samples should look like draws from a Normal with mean/stddev reported in lines above"
   ]
  },
  {
   "cell_type": "markdown",
   "metadata": {},
   "source": [
    "<a id=\"calc_logpdf_q\"></a>\n",
    "\n",
    "## 0b: Write function to evaluate logpdf of q"
   ]
  },
  {
   "cell_type": "code",
   "execution_count": 31,
   "metadata": {},
   "outputs": [],
   "source": [
    "def calc_logpdf_q(nn_params, q_mean_params, q_realstddev_params):\n",
    "    \"\"\" Compute logpdf of provided nn weights under q\n",
    "    \n",
    "    Args\n",
    "    ----\n",
    "    nn_params : pytree\n",
    "    q_mean_params : pytree, same shape as `nn_params`\n",
    "    q_realstddev_params : pytree, same shape as `nn_params`\n",
    "    \n",
    "    Returns\n",
    "    -------\n",
    "    logpdf_q : scalar float\n",
    "    \"\"\"\n",
    "    L = len(nn_params)\n",
    "    total_logpdf = 0.0\n",
    "    \n",
    "    # TODO compute logpdf of q evaluated at nn_params\n",
    "    # with q a Normal distribution whose params are set to:\n",
    "    # m = q_mean_params\n",
    "    # r = q_realstddev_params (convert into stddev via softplus)\n",
    "\n",
    "    # HINT: Loop over layers 0, 1, ... L-1\n",
    "    # at each one, grab the w array and b array\n",
    "    # then plug that into jstats.norm.logpdf\n",
    "    \n",
    "    return total_logpdf"
   ]
  },
  {
   "cell_type": "markdown",
   "metadata": {},
   "source": [
    "### Quick test of `calc_logpdf_q`\n",
    "\n",
    "Should be able to ask about the logpdf of each of the 10 samples from our earlier quick test"
   ]
  },
  {
   "cell_type": "code",
   "execution_count": 32,
   "metadata": {},
   "outputs": [
    {
     "data": {
      "text/plain": [
       "0.0"
      ]
     },
     "execution_count": 32,
     "metadata": {},
     "output_type": "execute_result"
    }
   ],
   "source": [
    "calc_logpdf_q(nn_samples_S[0], q_mean_params, q_realstddev_params)"
   ]
  },
  {
   "cell_type": "code",
   "execution_count": 33,
   "metadata": {},
   "outputs": [
    {
     "data": {
      "text/plain": [
       "0.0"
      ]
     },
     "execution_count": 33,
     "metadata": {},
     "output_type": "execute_result"
    }
   ],
   "source": [
    "calc_logpdf_q(nn_samples_S[1], q_mean_params, q_realstddev_params)"
   ]
  },
  {
   "cell_type": "markdown",
   "metadata": {},
   "source": [
    "### Function to compute value and gradient of logpdf_q"
   ]
  },
  {
   "cell_type": "code",
   "execution_count": 34,
   "metadata": {},
   "outputs": [],
   "source": [
    "# Function to calculate the value of the q logpdf AND its gradients in one call\n",
    "\n",
    "# Remember that calc_logpdf_q takes args (nn_params, q_means, q_realstddevs)\n",
    "# so we want grad wrt args numbered 1 and 2 index order (start counting from 0)\n",
    "calc_value_and_grad_of_logpdf_q = jax.value_and_grad(calc_logpdf_q, argnums=[1,2])\n",
    "fast_value_and_grad_of_logpdf_q = jax.jit(calc_value_and_grad_of_logpdf_q)"
   ]
  },
  {
   "cell_type": "markdown",
   "metadata": {},
   "source": [
    "### Quick test of `fast_value_and_grad_of_logpdf_q`"
   ]
  },
  {
   "cell_type": "code",
   "execution_count": 35,
   "metadata": {},
   "outputs": [
    {
     "name": "stdout",
     "output_type": "stream",
     "text": [
      "Layer 0\n",
      "  grad-wrt-mean-w | shape    (1, 1) | [ 0.000]\n",
      "  grad-wrt-mean-b | shape      (1,) | [ 0.000]\n",
      "Layer 0\n",
      "  grad-wrt-realstddev-w | shape    (1, 1) | [ 0.000]\n",
      "  grad-wrt-realstddev-b | shape      (1,) | [ 0.000]\n"
     ]
    }
   ],
   "source": [
    "logpdf, (g_m, g_rs) = fast_value_and_grad_of_logpdf_q(nn_samples_S[1], q_mean_params, q_realstddev_params)\n",
    "pretty_print_nn_param_list(g_m, prefix='grad-wrt-mean-')\n",
    "pretty_print_nn_param_list(g_rs, prefix='grad-wrt-realstddev-')"
   ]
  },
  {
   "cell_type": "markdown",
   "metadata": {},
   "source": [
    "## Prep for 0c: Calculate Monte-Carlo (MC) estimate of the ELBO\n",
    "\n",
    "Verify that you know how to do a MC estimate of the ELBO\n",
    "This will help you prepare for 0c's `calc_elbo_and_grad_from_mc_samples`\n",
    "\n",
    "That is, your goal is to implement a function that takes in $S$ samples of the weights-and-biases $\\{z^s\\}_{s=1}^S$, each drawn iid from $q$ like so:\n",
    "\n",
    "$$\n",
    "z^s \\sim q( z ; m, r), \\hspace{10cm}\n",
    "$$\n",
    "\n",
    "Given these $S$ samples, we wish to return a Monte-Carlo estimate of the ELBO\n",
    "\n",
    "\\begin{align}\n",
    "\\mathcal{L}(m, r) &\\approx\n",
    "    \\frac{1}{S} \\sum_{s=1}^S \n",
    "    \\Big( \\log p(y_{1:N}, z^s) - \\log q(z^s ; m, r) \n",
    "    \\Big)  \\hspace{10cm}\n",
    "\\end{align}\n",
    "\n",
    "Remember that you can compute the **joint** logpdf of $y$ and $z$ by combining the logpdf of likelihood with logpdf of the prior.\n",
    "\n"
   ]
  },
  {
   "cell_type": "code",
   "execution_count": 36,
   "metadata": {},
   "outputs": [],
   "source": [
    "def calc_elbo_from_mc_samples(\n",
    "        nn_samples_S,\n",
    "        q_mean_params, q_realstddev_params,\n",
    "        ):\n",
    "    \"\"\" Estimate the ELBO of q given S samples of nn_params\n",
    "    \n",
    "    Args\n",
    "    ----\n",
    "    nn_samples_S : list of pytree, length S\n",
    "    q_mean_params : pytree, same shape as one entry of `nn_samples_S`\n",
    "        Defines q's mean parameters at each weight/bias\n",
    "    q_realstddev_params : pytree, same shape as `q_mean_params`\n",
    "        Defines q's realstddev parameters at each weight/bias\n",
    "\n",
    "    Returns\n",
    "    -------\n",
    "    elbo : scalar float\n",
    "    \"\"\"\n",
    "    S = len(nn_samples_S)\n",
    "    total_elbo = 0.0\n",
    "    \n",
    "    # TODO compute ELBO using the provided S MC samples\n",
    "    # Hint: You should use the provided functions\n",
    "    # calc_logpdf_likelihood\n",
    "    # calc_logpdf_prior\n",
    "    # calc_logpdf_q\n",
    "    \n",
    "    return total_elbo / S"
   ]
  },
  {
   "cell_type": "code",
   "execution_count": 37,
   "metadata": {},
   "outputs": [],
   "source": [
    "# Run JIT compiler to get a fast ELBO calculation\n",
    "fast_elbo_from_mc_samples = jax.jit(calc_elbo_from_mc_samples)"
   ]
  },
  {
   "cell_type": "markdown",
   "metadata": {},
   "source": [
    "### Quick test of `calc_elbo_from_mc_samples`\n",
    "\n",
    "Just verify that (1) you produce a scalar float, and (2) the pure-python and fast JIT functions match output"
   ]
  },
  {
   "cell_type": "code",
   "execution_count": 38,
   "metadata": {},
   "outputs": [
    {
     "data": {
      "text/plain": [
       "0.0"
      ]
     },
     "execution_count": 38,
     "metadata": {},
     "output_type": "execute_result"
    }
   ],
   "source": [
    "calc_elbo_from_mc_samples(nn_samples_S, q_mean_params, q_realstddev_params)"
   ]
  },
  {
   "cell_type": "code",
   "execution_count": 39,
   "metadata": {},
   "outputs": [
    {
     "data": {
      "text/plain": [
       "DeviceArray(0., dtype=float32, weak_type=True)"
      ]
     },
     "execution_count": 39,
     "metadata": {},
     "output_type": "execute_result"
    }
   ],
   "source": [
    "# Fast version should give the same answer as slow version\n",
    "fast_elbo_from_mc_samples(nn_samples_S, q_mean_params, q_realstddev_params)"
   ]
  },
  {
   "cell_type": "markdown",
   "metadata": {},
   "source": [
    "Quick timing experiment. On instructor laptop, we see a speedup of ~50x\n",
    "\n",
    "Note: if you see a warning like \"This could mean that an intermediate result is being cached.\", just ignore it."
   ]
  },
  {
   "cell_type": "code",
   "execution_count": 40,
   "metadata": {},
   "outputs": [
    {
     "name": "stdout",
     "output_type": "stream",
     "text": [
      "314 ns ± 169 ns per loop (mean ± std. dev. of 3 runs, 3 loops each)\n"
     ]
    }
   ],
   "source": [
    "%timeit -n3 -r3 calc_elbo_from_mc_samples(nn_samples_S, q_mean_params, q_realstddev_params)"
   ]
  },
  {
   "cell_type": "code",
   "execution_count": 41,
   "metadata": {},
   "outputs": [
    {
     "name": "stdout",
     "output_type": "stream",
     "text": [
      "795 µs ± 94.5 µs per loop (mean ± std. dev. of 3 runs, 3 loops each)\n"
     ]
    }
   ],
   "source": [
    "%timeit -n3 -r3 fast_elbo_from_mc_samples(nn_samples_S, q_mean_params, q_realstddev_params)"
   ]
  },
  {
   "cell_type": "markdown",
   "metadata": {},
   "source": [
    "<a name=\"calc_elbo_and_grad_from_mc_samples_via_scorefunc_trick\"></a>\n",
    "\n",
    "## 0c: Calculate ELBO and gradient via score-function trick\n",
    "\n",
    "Your goal is to implement a function that takes in $S$ samples of the weights-and-biases $\\{z^s\\}_{s=1}^S$, each drawn iid from $q$ like so:\n",
    "\n",
    "$$\n",
    "z^s \\sim q( z ; m, r), \\hspace{10cm}\n",
    "$$\n",
    "\n",
    "Given these $S$ samples, we wish to return the following 3 quantities\n",
    "\n",
    "\\begin{align}\n",
    "\\mathcal{L}(m, r) &\\approx\n",
    "    \\frac{1}{S} \\sum_{s=1}^S \n",
    "    \\Big( \\log p(y_{1:N}, z^s) - \\log q(z^s ; m, r) \n",
    "    \\Big)  \\hspace{10cm}\n",
    "    \\\\\n",
    "\\nabla_{m} \\mathcal{L}(m, r) &\\approx\n",
    "    \\frac{1}{S} \\sum_{s=1}^S \\Big[\\nabla_{m} \\log q(z^s; m, r)\\Big] \n",
    "    \\Big( \\log p(y_{1:N}, z^s) - \\log q(z^s ; m, r) \n",
    "    \\Big)\n",
    "    \\\\\n",
    "\\nabla_{r} \\mathcal{L}(m, r) &\\approx\n",
    "    \\frac{1}{S} \\sum_{s=1}^S \\Big[\\nabla_{r} \\log q(z^s; m, r)\\Big] \n",
    "    \\Big( \\log p(y_{1:N}, z^s) - \\log q(z^s ; m, r) \n",
    "    \\Big)    \n",
    "\\end{align}\n",
    "\n",
    "We do this all in ONE function, since the same S samples can be used to estimate the ELBO and its gradient"
   ]
  },
  {
   "cell_type": "code",
   "execution_count": 42,
   "metadata": {},
   "outputs": [],
   "source": [
    "def calc_elbo_and_grad_from_mc_samples_via_scorefunc_trick(\n",
    "        nn_samples_S,\n",
    "        q_mean_params, q_realstddev_params,\n",
    "        ):\n",
    "    \"\"\" Estimate the ELBO and gradient of q given S samples of nn_params\n",
    "    \n",
    "    Args\n",
    "    ----\n",
    "    nn_samples_S : list of pytree, length S\n",
    "    q_mean_params : pytree, same shape as one entry of `nn_samples_S`\n",
    "        Defines q's mean parameters at each weight/bias\n",
    "    q_realstddev_params : pytree, same shape as `q_mean_params`\n",
    "        Defines q's realstddev parameters at each weight/bias\n",
    "    \n",
    "    Returns\n",
    "    -------\n",
    "    elbo : scalar float\n",
    "    grad_m : pytree, same shape as `q_mean_params`\n",
    "        Contains gradient of ELBO wrt each mean parameter of q\n",
    "    grad_rs : pytree, same shape as `q_realstddev_params`\n",
    "        Contains gradient of ELBO wrt each realstddev parameter of q\n",
    "    \"\"\"\n",
    "    total_elbo = 0.0\n",
    "    S = len(nn_samples_S)\n",
    "    for ss in range(S):\n",
    "        # Hint: Variables already defined in current \"global\" workspace\n",
    "        # such as x_NF, y_N, model_hypers\n",
    "        # can be used here without passing them as direct args\n",
    "\n",
    "        # Get logpdf of q and its gradient with respect to both m and r\n",
    "        logq, (g_logq_wrt_m, g_logq_wrt_rs) = fast_value_and_grad_of_logpdf_q(\n",
    "            nn_samples_S[ss], q_mean_params, q_realstddev_params)\n",
    "        \n",
    "        cur_elbo = 0.0 # TODO FIXME\n",
    "        total_elbo += cur_elbo\n",
    "        \n",
    "        # Accumulate total gradient by adding in latest gradient\n",
    "        if ss == 0:\n",
    "            total_grad_m = g_logq_wrt_m   # TODO FIXME\n",
    "            total_grad_rs = g_logq_wrt_rs # TODO FIXME\n",
    "        else:\n",
    "            # Hint: Use add_pytrees here to accumulate samples > 0\n",
    "            total_grad_m = total_grad_m   # TODO FIXME\n",
    "            total_grad_rs = total_grad_rs # TODO FIXME\n",
    "\n",
    "    # Return totals (summed across all S samples) divided by S\n",
    "    return (\n",
    "        total_elbo / S,\n",
    "        multiply_pytree_and_scalar(total_grad_m, 1.0/S),\n",
    "        multiply_pytree_and_scalar(total_grad_rs, 1.0/S))"
   ]
  },
  {
   "cell_type": "code",
   "execution_count": 43,
   "metadata": {},
   "outputs": [],
   "source": [
    "fast_elbo_and_grad_from_mc_samples = jax.jit(calc_elbo_and_grad_from_mc_samples_via_scorefunc_trick)"
   ]
  },
  {
   "cell_type": "markdown",
   "metadata": {},
   "source": [
    "## Provided Utility: `fast_elbo_and_grad`\n",
    "\n",
    "The function `fast_elbo_and_grad` just calls two functions you already wrote\n",
    "\n",
    "* your `sample_nn_params_from_q` from 0a\n",
    "* your JIT-accelerated `calc_elbo_and_grad_from_mc_samples_via_scorefunc_trick` from 0c\n",
    "\n",
    "It combines *sampling* from $q$ with using those samples to compute the ELBO + gradients"
   ]
  },
  {
   "cell_type": "code",
   "execution_count": 44,
   "metadata": {},
   "outputs": [],
   "source": [
    "def fast_elbo_and_grad(\n",
    "        q_mean_params, q_realstddev_params,\n",
    "        n_samples=1,\n",
    "        random_state=42,\n",
    "        ):\n",
    "    ''' Compute ELBO and grad wrt means and realstddevs of q\n",
    "    \n",
    "    Performs sampling from q (not JIT-able currently)\n",
    "    followed by fast ELBO and gradient calculation (JIT-able)\n",
    "    \n",
    "    Args\n",
    "    ---\n",
    "    q_mean_params\n",
    "    q_realstddev_params\n",
    "    n_samples : int\n",
    "        Number of MC samples to use\n",
    "    random_state : int or np.random.RandomState\n",
    "    \n",
    "    Returns\n",
    "    -------\n",
    "    elbo : scalar float\n",
    "    grad_m : pytree, same shape as `q_mean_params`\n",
    "        Contains gradient of ELBO wrt each mean parameter of q\n",
    "    grad_rs : pytree, same shape as `q_realstddev_params`\n",
    "        Contains gradient of ELBO wrt each realstddev parameter of q\n",
    "    '''\n",
    "    nn_samples_S = sample_nn_params_from_q(\n",
    "        q_mean_params, q_realstddev_params,\n",
    "        n_samples=n_samples,\n",
    "        random_state=random_state)\n",
    "    return fast_elbo_and_grad_from_mc_samples(nn_samples_S, q_mean_params, q_realstddev_params)"
   ]
  },
  {
   "cell_type": "markdown",
   "metadata": {},
   "source": [
    "### Quick test of `fast_elbo_and_grad` via 10 samples and arch []"
   ]
  },
  {
   "cell_type": "code",
   "execution_count": 45,
   "metadata": {},
   "outputs": [
    {
     "name": "stdout",
     "output_type": "stream",
     "text": [
      "ELBO: 0.000000\n",
      "--- grad wrt MEANS\n",
      "Layer 0\n",
      "  grad-wrt-m-of-w | shape    (1, 1) | [ 0.000]\n",
      "  grad-wrt-m-of-b | shape      (1,) | [ 0.000]\n",
      "--- grad wrt REALSTDDEVS\n",
      "Layer 0\n",
      "  grad-wrt-rsd-of-w | shape    (1, 1) | [ 0.000]\n",
      "  grad-wrt-rsd-of-b | shape      (1,) | [ 0.000]\n"
     ]
    }
   ],
   "source": [
    "elbo, gm, grs = fast_elbo_and_grad(q_mean_params, q_realstddev_params, n_samples=10)\n",
    "print(\"ELBO: %.6f\" % elbo)\n",
    "print(\"--- grad wrt MEANS\")\n",
    "pretty_print_nn_param_list(gm, \"grad-wrt-m-of-\")\n",
    "print(\"--- grad wrt REALSTDDEVS\")\n",
    "pretty_print_nn_param_list(grs, \"grad-wrt-rsd-of-\")"
   ]
  },
  {
   "cell_type": "markdown",
   "metadata": {},
   "source": [
    "### Quick test of `fast_elbo_and_grad` via 20 samples and arch [4]"
   ]
  },
  {
   "cell_type": "code",
   "execution_count": 46,
   "metadata": {},
   "outputs": [
    {
     "name": "stdout",
     "output_type": "stream",
     "text": [
      "ELBO: 0.000000\n",
      "Gradient wrt MEANS\n",
      "Layer 0\n",
      "  grad-wrt-m-of-w | shape    (1, 4) | [ 0.000  0.000  0.000  0.000]\n",
      "  grad-wrt-m-of-b | shape      (4,) | [ 0.000  0.000  0.000  0.000]\n",
      "Layer 1\n",
      "  grad-wrt-m-of-w | shape    (4, 1) | [ 0.000  0.000  0.000  0.000]\n",
      "  grad-wrt-m-of-b | shape      (1,) | [ 0.000]\n",
      "Gradient wrt REALSTDDEVS\n",
      "Layer 0\n",
      "  grad-wrt-rsd-of-w | shape    (1, 4) | [ 0.000  0.000  0.000  0.000]\n",
      "  grad-wrt-rsd-of-b | shape      (4,) | [ 0.000  0.000  0.000  0.000]\n",
      "Layer 1\n",
      "  grad-wrt-rsd-of-w | shape    (4, 1) | [ 0.000  0.000  0.000  0.000]\n",
      "  grad-wrt-rsd-of-b | shape      (1,) | [ 0.000]\n"
     ]
    }
   ],
   "source": [
    "qm4 = fill_q_params_with_draws_from_normal(1,1,[4], 0.0, 1.0)\n",
    "qrs4 = fill_q_params_with_draws_from_normal(1,1,[4], invsoftplus(0.1), 0.05)\n",
    "elbo, gm, grs = fast_elbo_and_grad(qm4, qrs4, n_samples=20)\n",
    "\n",
    "print(\"ELBO: %.6f\" % elbo)\n",
    "print(\"Gradient wrt MEANS\")\n",
    "pretty_print_nn_param_list(gm, \"grad-wrt-m-of-\")\n",
    "print(\"Gradient wrt REALSTDDEVS\")\n",
    "pretty_print_nn_param_list(grs, \"grad-wrt-rsd-of-\")"
   ]
  },
  {
   "cell_type": "markdown",
   "metadata": {},
   "source": [
    "More tests are possible! Feel free to skip ahead to Problem 1a and 1b"
   ]
  },
  {
   "cell_type": "markdown",
   "metadata": {},
   "source": [
    "<a id=\"optimize_q_via_stochastic_gradient_ascent\"></a>"
   ]
  },
  {
   "cell_type": "markdown",
   "metadata": {},
   "source": [
    "## 0d: Implement `optimize_q_via_stochastic_gradient_ascent`\n",
    "\n",
    "Here, we're writing code to solve the following optimization problem (maximize the ELBO)\n",
    "\n",
    "$$\n",
    "m^*, r^* \\gets \\arg\\!\\max_{m, r} \\mathcal{L}(m, r)\n",
    "$$\n",
    "\n",
    "We'll use stochastic gradient ascent (we're maximizing, not minimizing), with constant step size.\n",
    "\n",
    "Most of the code is provided for you, you just need to edit one part: the update to parameters.\n",
    "\n",
    "Look for the \"TODO FIXME\" lines, and edit those directly."
   ]
  },
  {
   "cell_type": "code",
   "execution_count": 47,
   "metadata": {},
   "outputs": [],
   "source": [
    "def optimize_q_via_stochastic_gradient_ascent(\n",
    "        init_q_means,\n",
    "        init_q_realstddevs,\n",
    "        n_iters=100,\n",
    "        step_size_m=0.001,\n",
    "        step_size_rs=0.001,\n",
    "        n_mc_samples=100,\n",
    "        random_state=101,\n",
    "        print_early=3,\n",
    "        print_every=100,\n",
    "        print_max_num_weights=2, # set to zero to print no weight info\n",
    "        ):\n",
    "    ''' Run Black-Box VI stochastic gradient ascent\n",
    "    \n",
    "    Each iteration computes a noisy gradient of ELBO and nudges q's parameters uphill\n",
    "\n",
    "    Args\n",
    "    ----\n",
    "    init_q_means : pytree\n",
    "    init_q_realstddevs : pytree\n",
    "    n_iters : int\n",
    "        Total number of iterations to run\n",
    "    step_size_m : float\n",
    "        Step size for gradient updates of mean parameters\n",
    "    step_size_rs : float\n",
    "        Step size for gradient updates of realstddev parameters\n",
    "    n_mc_samples : int\n",
    "        Number of MC samples to use\n",
    "    random_state : int or np.random.RandomState\n",
    "\n",
    "    Returns\n",
    "    -------\n",
    "    opt_q_means : pytree\n",
    "        Optimized values of q_means\n",
    "    opt_q_realstddevs : pytree\n",
    "        Optimized values of q_realstddevs\n",
    "    history : dict\n",
    "        Contains history of this optimization run\n",
    "        Useful for trace plots\n",
    "    '''\n",
    "    history = dict(\n",
    "        n_mc_samples=n_mc_samples,\n",
    "        step_size_m=step_size_m,\n",
    "        step_size_rs=step_size_rs,\n",
    "        iter=list(),\n",
    "        elbo=list(),\n",
    "        q_m=list(),\n",
    "        q_rs=list(),\n",
    "        )\n",
    "    if isinstance(random_state, int):\n",
    "        random_state = np.random.RandomState(random_state)\n",
    "    \n",
    "    q_means = init_q_means\n",
    "    q_realstddevs = init_q_realstddevs\n",
    "    \n",
    "    print(\"S = %6s | step_size of m %.6g | step_size of rs %.6g\" % (\n",
    "        n_mc_samples, step_size_m, step_size_rs))\n",
    "    start_time = time.time()\n",
    "    for iter_id in range(n_iters+1):\n",
    "        \n",
    "        if iter_id > 0:\n",
    "            # Update parameters to go uphill\n",
    "            # Take step along gradient of provided length\n",
    "            q_means = multiply_pytree_and_scalar(q_means, 1.0) # TODO FIXME\n",
    "            q_realstddevs = multiply_pytree_and_scalar(q_realstddevs, 1.0) # TODO FIXME\n",
    "            \n",
    "        # Estimate ELBO and gradient at current params\n",
    "        elbo, grad_elbo_wrt_m, grad_elbo_wrt_rs = fast_elbo_and_grad(\n",
    "            q_means, q_realstddevs, \n",
    "            n_samples=n_mc_samples,\n",
    "            random_state=random_state)        \n",
    "\n",
    "        if not np.isfinite(elbo):\n",
    "            print(\"EARLY TERMINATION DUE TO NaN\")\n",
    "            break\n",
    "        \n",
    "        # Record current state of algorithm to history\n",
    "        history['iter'].append(iter_id)\n",
    "        history['elbo'].append(elbo)\n",
    "        history['q_m'].append(q_means)\n",
    "        history['q_rs'].append(q_realstddevs)\n",
    "        \n",
    "        # Print a status update every few iterations\n",
    "        if iter_id < print_early or (iter_id % print_every == 0) or iter_id == n_iters:\n",
    "            msg = \"iter %6d/%d after %5.1f sec  ELBO % .6e\" % (\n",
    "                iter_id, n_iters, time.time() - start_time, elbo)\n",
    "            if print_max_num_weights > 0:\n",
    "                with np.printoptions(formatter={'float': '{: 0.3f}'.format}):\n",
    "                    m_str = str(q_means[-1]['w'].flatten()[:print_max_num_weights])\n",
    "                    rs_str = str(q_realstddevs[-1]['w'].flatten()[:print_max_num_weights])\n",
    "                    msg += \" | %s | %s\" % (m_str, rs_str)\n",
    "            print(msg)\n",
    "                \n",
    "    for key in ['iter', 'elbo']:\n",
    "        history[key] = np.asarray(history[key])\n",
    "    return q_means, q_realstddevs, history"
   ]
  },
  {
   "cell_type": "markdown",
   "metadata": {},
   "source": [
    "# Problem 1"
   ]
  },
  {
   "cell_type": "markdown",
   "metadata": {},
   "source": [
    "### Define an \"ideal\" q, using EXACT posterior for arch []\n",
    "\n",
    "Set slope \"w\" to mean 0.659, stddev 0.05  \n",
    "Set bias \"b\" to mean 0.000, stddev 0.05 "
   ]
  },
  {
   "cell_type": "code",
   "execution_count": 48,
   "metadata": {},
   "outputs": [
    {
     "name": "stdout",
     "output_type": "stream",
     "text": [
      "Layer 0\n",
      "  ideal mean-of-w | shape    (1, 1) | [ 0.659]\n",
      "  ideal mean-of-b | shape      (1,) | [ 0.000]\n"
     ]
    }
   ],
   "source": [
    "ideal_q_means = fill_q_params_with_draws_from_normal(1, 1, [], mean=0.0, stddev=0.0001, random_state=42)\n",
    "ideal_q_means[0]['w'][:] = 0.659  # From HW2 Problem 2\n",
    "ideal_q_means[0]['b'][:] = 0.0\n",
    "pretty_print_nn_param_list(ideal_q_means, prefix='ideal mean-of-')"
   ]
  },
  {
   "cell_type": "code",
   "execution_count": 49,
   "metadata": {},
   "outputs": [
    {
     "name": "stdout",
     "output_type": "stream",
     "text": [
      "Layer 0\n",
      "  ideal realstddev-of-w | shape    (1, 1) | [-3.000]\n",
      "  ideal realstddev-of-b | shape      (1,) | [-3.000]\n"
     ]
    }
   ],
   "source": [
    "ideal_q_realstddevs = fill_q_params_with_draws_from_normal(1, 1, [], mean=-3.0, stddev=0.001, random_state=42)\n",
    "pretty_print_nn_param_list(ideal_q_realstddevs, prefix='ideal realstddev-of-')"
   ]
  },
  {
   "cell_type": "code",
   "execution_count": 50,
   "metadata": {},
   "outputs": [
    {
     "name": "stdout",
     "output_type": "stream",
     "text": [
      "Layer 0\n",
      "  ideal stddev-of-w | shape    (1, 1) | [ 0.049]\n",
      "  ideal stddev-of-b | shape      (1,) | [ 0.049]\n"
     ]
    }
   ],
   "source": [
    "# Use softplus to look at implied stddev values\n",
    "pretty_print_nn_param_list(softplus_of_pytree(ideal_q_realstddevs), prefix='ideal stddev-of-')"
   ]
  },
  {
   "cell_type": "markdown",
   "metadata": {},
   "source": [
    "### Define a \"bad\" q, with near-zero means and not-too-small stddevs"
   ]
  },
  {
   "cell_type": "code",
   "execution_count": 51,
   "metadata": {},
   "outputs": [
    {
     "name": "stdout",
     "output_type": "stream",
     "text": [
      "Layer 0\n",
      "  bad mean-of-w | shape    (1, 1) | [ 0.025]\n",
      "  bad mean-of-b | shape      (1,) | [-0.007]\n"
     ]
    }
   ],
   "source": [
    "bad_q_means = fill_q_params_with_draws_from_normal(\n",
    "    1, 1, [], mean=0.0, stddev=0.05, random_state=42)\n",
    "pretty_print_nn_param_list(bad_q_means, prefix='bad mean-of-')"
   ]
  },
  {
   "cell_type": "code",
   "execution_count": 52,
   "metadata": {},
   "outputs": [
    {
     "name": "stdout",
     "output_type": "stream",
     "text": [
      "Layer 0\n",
      "  bad stddev-of-w | shape    (1, 1) | [ 0.327]\n",
      "  bad stddev-of-b | shape      (1,) | [ 0.310]\n"
     ]
    }
   ],
   "source": [
    "bad_q_realstddevs = fill_q_params_with_draws_from_normal(\n",
    "    1, 1, [], mean=-1.0, stddev=0.1, random_state=42)\n",
    "pretty_print_nn_param_list(softplus_of_pytree(bad_q_realstddevs), prefix='bad stddev-of-')"
   ]
  },
  {
   "cell_type": "markdown",
   "metadata": {},
   "source": [
    "### Now compare the ELBO at ideal q and at bad q\n",
    "\n",
    "We should see near-ideal q has HIGHER elbo"
   ]
  },
  {
   "cell_type": "markdown",
   "metadata": {},
   "source": [
    "#### ELBO at \"bad\" q, using 50 samples repeated 3x"
   ]
  },
  {
   "cell_type": "code",
   "execution_count": 53,
   "metadata": {},
   "outputs": [
    {
     "name": "stdout",
     "output_type": "stream",
     "text": [
      "0.0\n",
      "0.0\n",
      "0.0\n"
     ]
    }
   ],
   "source": [
    "prng = np.random.RandomState(123456)\n",
    "for rep in range(3):\n",
    "    elbo, _, _ = fast_elbo_and_grad(bad_q_means, bad_q_realstddevs, 50, prng)\n",
    "    print(elbo)"
   ]
  },
  {
   "cell_type": "markdown",
   "metadata": {},
   "source": [
    "#### ELBO at \"near-ideal\" q, using 50 samples repeated 3x"
   ]
  },
  {
   "cell_type": "code",
   "execution_count": 54,
   "metadata": {},
   "outputs": [
    {
     "name": "stdout",
     "output_type": "stream",
     "text": [
      "0.0\n",
      "0.0\n",
      "0.0\n"
     ]
    }
   ],
   "source": [
    "prng = np.random.RandomState(123456)\n",
    "for rep in range(3):\n",
    "    elbo, _, _ = fast_elbo_and_grad(ideal_q_means, ideal_q_realstddevs, 50, prng)\n",
    "    print(elbo)"
   ]
  },
  {
   "cell_type": "markdown",
   "metadata": {},
   "source": [
    "<a name=\"problem-1a\"></a>"
   ]
  },
  {
   "cell_type": "markdown",
   "metadata": {},
   "source": [
    "## Prep for 1a\n",
    "\n",
    "**Statement**: Create a 1 row x 4 column plot of the estimated ELBO\n",
    "\n",
    "* Each column should show results using 1, 10, and 100 samples\n",
    "* Each panel should show the estimated value of $\\mathcal{L}$ across several possible settings of $q$'s parameter vector\n",
    "* * Let $m$ (the mean of 𝑤 under 𝑞) vary across a grid of 20 possible values\n",
    "* * Fix the other parameters of $q()$ to their Near-Ideal values in the chart above\n"
   ]
  },
  {
   "cell_type": "code",
   "execution_count": 55,
   "metadata": {
    "scrolled": true
   },
   "outputs": [],
   "source": [
    "ideal_mu = ideal_q_means[0]['w'].flatten()[0]\n",
    "G = 21\n",
    "mean_grid_G = np.linspace(ideal_mu - 4, ideal_mu + 4, G)\n",
    "\n",
    "n_samples_M = np.asarray([1, 10, 100]) #, 1000])\n",
    "M = n_samples_M.size\n",
    "elbo_grid_GM = np.zeros((G, M))\n",
    "    \n",
    "for gg, w_mean in enumerate(mean_grid_G):\n",
    "    cur_q_means = copy.deepcopy(ideal_q_means)\n",
    "    cur_q_means[0]['w'][:] = w_mean\n",
    "    for mm, n_mc_samples in enumerate(n_samples_M):\n",
    "        random_state = 10000 * (mm+1) + gg\n",
    "        elbo_grid_GM[gg, mm], _, _ = fast_elbo_and_grad(\n",
    "            cur_q_means, ideal_q_realstddevs, n_mc_samples, random_state)"
   ]
  },
  {
   "cell_type": "markdown",
   "metadata": {},
   "source": [
    "## Figure 1a"
   ]
  },
  {
   "cell_type": "code",
   "execution_count": 56,
   "metadata": {},
   "outputs": [
    {
     "name": "stdout",
     "output_type": "stream",
     "text": [
      "Best w_mean: -3.341\n"
     ]
    },
    {
     "data": {
      "image/png": "[encoded data removed]",
      "text/plain": [
       "<Figure size 864x216 with 3 Axes>"
      ]
     },
     "metadata": {
      "needs_background": "light"
     },
     "output_type": "display_data"
    }
   ],
   "source": [
    "_, subplot_grid = plt.subplots(\n",
    "    nrows=1, ncols=M, figsize=(12, 3), sharex=True, sharey=True, squeeze=False)\n",
    "\n",
    "for mm in range(M):\n",
    "    ax = subplot_grid[0,mm]\n",
    "    ax.plot(mean_grid_G, elbo_grid_GM[:,mm], 'bs-')\n",
    "    ax.set_title('%d MC samples' % n_samples_M[mm])\n",
    "    ax.set_xlabel('m: mean of q(w)'); ax.set_xticks([-3, -2, -1, 0, 1, 2, 3, 4]);\n",
    "    if mm == 0:\n",
    "        ax.set_ylabel(\"ELBO\")\n",
    "        \n",
    "print(\"Best w_mean: \" + str(mean_grid_G[elbo_grid_GM[:,-1].argmax()]))"
   ]
  },
  {
   "cell_type": "markdown",
   "metadata": {},
   "source": [
    "<a name=\"problem-1b\"></a>\n",
    "\n",
    "## Prep for 1b"
   ]
  },
  {
   "cell_type": "code",
   "execution_count": 57,
   "metadata": {},
   "outputs": [],
   "source": [
    "grad_m_grid_GM = np.zeros((G, M))\n",
    "\n",
    "for gg, w_mean in enumerate(mean_grid_G):\n",
    "    cur_q_means = copy.deepcopy(ideal_q_means)\n",
    "    cur_q_means[0]['w'][:] = w_mean\n",
    "    for mm, n_samples in enumerate(n_samples_M):\n",
    "        random_state = 10000 * (mm+1) + gg\n",
    "        _, grad_wrt_m, grad_wrt_rs = fast_elbo_and_grad(\n",
    "            cur_q_means, ideal_q_realstddevs, \n",
    "            n_samples, random_state)\n",
    "        grad_m_grid_GM[gg, mm] = grad_wrt_m[0]['w']"
   ]
  },
  {
   "cell_type": "markdown",
   "metadata": {},
   "source": [
    "## Figure 1b\n",
    "\n",
    "**STATEMENT**: Make a 1 row x 3 column plot of the estimated gradient of the VI loss w.r.t $\\tilde{m}$"
   ]
  },
  {
   "cell_type": "code",
   "execution_count": 58,
   "metadata": {},
   "outputs": [
    {
     "data": {
      "image/png": "[encoded data removed]",
      "text/plain": [
       "<Figure size 864x216 with 3 Axes>"
      ]
     },
     "metadata": {
      "needs_background": "light"
     },
     "output_type": "display_data"
    }
   ],
   "source": [
    "_, subplot_grid = plt.subplots(\n",
    "    nrows=1, ncols=M, figsize=(12, 3), sharex=True, sharey=True, squeeze=False)\n",
    "\n",
    "for mm in range(M):\n",
    "    ax = subplot_grid[0,mm]\n",
    "    ax.plot(mean_grid_G, grad_m_grid_GM[:,mm], 'bs-')\n",
    "    ax.set_title('%d MC samples' % n_samples_M[mm])\n",
    "    ax.set_xlabel('m: mean of q(w)'); ax.set_xticks([-3, -2, -1, 0, 1, 2, 3, 4]);\n",
    "    if mm == 0:\n",
    "        ax.set_ylabel('grad of ELBO wrt m');\n",
    "    ax.set_ylim([-5000, 5000]);"
   ]
  },
  {
   "cell_type": "markdown",
   "metadata": {},
   "source": [
    "<a name=\"problem-1d\"></a>"
   ]
  },
  {
   "cell_type": "markdown",
   "metadata": {},
   "source": [
    "<a name=\"problem-1c\"></a>\n",
    "\n",
    "## Prep for 1c"
   ]
  },
  {
   "cell_type": "code",
   "execution_count": 59,
   "metadata": {},
   "outputs": [
    {
     "name": "stdout",
     "output_type": "stream",
     "text": [
      "Best realstddev for w: -7.9995032858469886\n",
      "Best stddev for w    : 0.00033551783\n"
     ]
    }
   ],
   "source": [
    "ideal_w_realstddev = ideal_q_realstddevs[0]['w'].flatten()[0]\n",
    "realstddev_grid_G = np.linspace(ideal_w_realstddev - 5, ideal_w_realstddev + 3, G)\n",
    "\n",
    "elbo2_grid_GM = np.zeros((G, M))\n",
    "    \n",
    "for gg, w_realstddev in enumerate(realstddev_grid_G):\n",
    "    cur_q_realstddevs = copy.deepcopy(ideal_q_realstddevs)\n",
    "    cur_q_realstddevs[0]['w'][:] = w_realstddev\n",
    "    for mm, n_mc_samples in enumerate(n_samples_M):\n",
    "        random_state = 10000 * (mm+1) + gg\n",
    "        elbo2_grid_GM[gg, mm], _, _ = fast_elbo_and_grad(\n",
    "            ideal_q_means, cur_q_realstddevs, n_mc_samples, random_state)\n",
    "        \n",
    "print(\"Best realstddev for w: \" + str(realstddev_grid_G[elbo2_grid_GM[:,-1].argmax()]))\n",
    "print(\"Best stddev for w    : \" + str(softplus(realstddev_grid_G[elbo2_grid_GM[:,-1].argmax()])))"
   ]
  },
  {
   "cell_type": "markdown",
   "metadata": {},
   "source": [
    "## Figure 1c"
   ]
  },
  {
   "cell_type": "code",
   "execution_count": 60,
   "metadata": {},
   "outputs": [
    {
     "data": {
      "image/png": "[encoded data removed]",
      "text/plain": [
       "<Figure size 864x216 with 3 Axes>"
      ]
     },
     "metadata": {
      "needs_background": "light"
     },
     "output_type": "display_data"
    }
   ],
   "source": [
    "_, subplot_grid = plt.subplots(\n",
    "    nrows=1, ncols=M, figsize=(12, 3),\n",
    "    sharex=True, sharey=True, squeeze=False)\n",
    "for mm in range(M):\n",
    "    ax = subplot_grid[0,mm]\n",
    "    ax.plot(realstddev_grid_G, elbo2_grid_GM[:,mm], 'bs-')\n",
    "    ax.set_title('%d MC samples\\n' % n_samples_M[mm])\n",
    "    ax.set_xlabel('r: realstddev of q(w)')\n",
    "    xticks = np.asarray([-8, -6, -4, -2, 0]);\n",
    "    ax2 = ax.secondary_xaxis('top', functions=(softplus, invsoftplus))\n",
    "    ax.set_xticks(xticks)\n",
    "    ax2.set_xticks([0.001, 0.01, 0.1, 0.5])\n",
    "    ax2.set_xlabel('stddev of q(w)')\n",
    "subplot_grid[0,0].set_ylabel('Monte Carlo ELBO');\n",
    "#plt.ylim([-200, -140]);"
   ]
  },
  {
   "cell_type": "markdown",
   "metadata": {},
   "source": [
    "<a name=\"problem-1d\"></a>\n",
    "\n",
    "## Prep for 1d"
   ]
  },
  {
   "cell_type": "code",
   "execution_count": 61,
   "metadata": {},
   "outputs": [],
   "source": [
    "grad_rs_grid_GM = np.zeros((G, M))\n",
    "\n",
    "for gg, w_realstddev in enumerate(realstddev_grid_G):\n",
    "    cur_q_rs = copy.deepcopy(ideal_q_realstddevs)\n",
    "    cur_q_rs[0]['w'][:] = w_realstddev\n",
    "    for mm, n_samples in enumerate(n_samples_M):\n",
    "        random_state = 10000 * (mm+1) + gg\n",
    "        _, grad_wrt_m, grad_wrt_rs = fast_elbo_and_grad(\n",
    "            ideal_q_means, cur_q_rs, \n",
    "            n_samples, random_state)\n",
    "        grad_rs_grid_GM[gg, mm] = grad_wrt_rs[0]['w']"
   ]
  },
  {
   "cell_type": "markdown",
   "metadata": {},
   "source": [
    "## Figure 1d"
   ]
  },
  {
   "cell_type": "code",
   "execution_count": 62,
   "metadata": {},
   "outputs": [
    {
     "data": {
      "image/png": "[encoded data removed]",
      "text/plain": [
       "<Figure size 864x216 with 3 Axes>"
      ]
     },
     "metadata": {
      "needs_background": "light"
     },
     "output_type": "display_data"
    }
   ],
   "source": [
    "_, subplot_grid = plt.subplots(nrows=1, ncols=M, figsize=(12, 3), sharex=True, sharey=True, squeeze=False)\n",
    "\n",
    "for mm in range(M):\n",
    "    ax = subplot_grid[0,mm]\n",
    "    ax.plot(realstddev_grid_G, grad_rs_grid_GM[:,mm], 'bs-')\n",
    "    ax.set_title('%d MC samples' % n_samples_M[mm])\n",
    "    ax.set_xlabel('r : realstddev of q(w)');\n",
    "    if mm == 0:\n",
    "        ax.set_ylabel('grad of ELBO wrt r');\n",
    "    ax.set_ylim([-500, 500]);"
   ]
  },
  {
   "cell_type": "markdown",
   "metadata": {},
   "source": [
    "<a name=\"problem-1e\"></a>\n",
    "\n",
    "## Problem 1e"
   ]
  },
  {
   "cell_type": "markdown",
   "metadata": {},
   "source": [
    "**STATEMENT**: \n",
    "\n",
    "* Does Figure 1b look plausible as the gradient of the function in Figure 1a?\n",
    "* What about Figure 1d as the gradient of the function in Figure 1c?\n",
    "* Are the 1 sample estimates trustworthy? How many samples would you recommend?"
   ]
  },
  {
   "cell_type": "markdown",
   "metadata": {},
   "source": [
    "**SOLUTION**: \n",
    "\n",
    "TODO WRITE ME"
   ]
  },
  {
   "cell_type": "markdown",
   "metadata": {},
   "source": [
    "<a name=\"run_bbvi\"></a>"
   ]
  },
  {
   "cell_type": "markdown",
   "metadata": {},
   "source": [
    "# Problem 2: NN regression on COVID-19 data with linear model (arch [ ])\n",
    "\n",
    "Let's use BBVI to estimate a posterior over weights for the linear model.\n",
    "\n",
    "We'll need to carefully tune the following:\n",
    "\n",
    "* `n_mc_samples` : Number of MC samples \n",
    "* `step_size_m` : step_size for the mean parameters of q\n",
    "* `step_size_rs` : step_size for the realstddev parameters of q\n",
    "* `n_iters` : how long to run the optimization\n",
    "\n",
    "The code below offers a \"multi-phase\" approach to calling the gradient ascent.\n",
    "\n",
    "Each phase uses a constant setting (num samples, step size etc), and then its result becomes the start of the next phase."
   ]
  },
  {
   "cell_type": "code",
   "execution_count": 63,
   "metadata": {},
   "outputs": [],
   "source": [
    "arch0 = []\n",
    "\n",
    "S_by_phase = {0:10, 1:10, 2:10}\n",
    "ssm_by_phase = {0:0.001, 1:0.001, 2:0.001}\n",
    "ssr_by_phase = {0:0.001, 1:0.001, 2:0.001}\n",
    "n_iters_by_phase = {0:10, 1:10, 2:10}"
   ]
  },
  {
   "cell_type": "code",
   "execution_count": 64,
   "metadata": {},
   "outputs": [],
   "source": [
    "chain_list = [1,2,3]\n",
    "\n",
    "# Preallocate where to store results\n",
    "qm_by_chain = {}\n",
    "qrs_by_chain = {}\n",
    "history_by_chain = {}"
   ]
  },
  {
   "cell_type": "markdown",
   "metadata": {},
   "source": [
    "## Prep for 2a: Run the experiments"
   ]
  },
  {
   "cell_type": "code",
   "execution_count": 65,
   "metadata": {},
   "outputs": [
    {
     "name": "stdout",
     "output_type": "stream",
     "text": [
      "\n",
      "Chain 1/3 phase 0\n",
      "S =     10 | step_size of m 0.001 | step_size of rs 0.001\n",
      "iter      0/10 after   0.0 sec  ELBO  0.000000e+00 | [ 0.063] | [-2.189]\n",
      "iter      1/10 after   0.0 sec  ELBO  0.000000e+00 | [ 0.063] | [-2.189]\n",
      "iter      2/10 after   0.0 sec  ELBO  0.000000e+00 | [ 0.063] | [-2.189]\n",
      "iter     10/10 after   0.0 sec  ELBO  0.000000e+00 | [ 0.063] | [-2.189]\n",
      "Chain 1/3 phase 1\n",
      "S =     10 | step_size of m 0.001 | step_size of rs 0.001\n",
      "iter      0/10 after   0.0 sec  ELBO  0.000000e+00 | [ 0.063] | [-2.189]\n",
      "iter      1/10 after   0.0 sec  ELBO  0.000000e+00 | [ 0.063] | [-2.189]\n",
      "iter      2/10 after   0.0 sec  ELBO  0.000000e+00 | [ 0.063] | [-2.189]\n",
      "iter     10/10 after   0.0 sec  ELBO  0.000000e+00 | [ 0.063] | [-2.189]\n",
      "Chain 1/3 phase 2\n",
      "S =     10 | step_size of m 0.001 | step_size of rs 0.001\n",
      "iter      0/10 after   0.0 sec  ELBO  0.000000e+00 | [ 0.063] | [-2.189]\n",
      "iter      1/10 after   0.0 sec  ELBO  0.000000e+00 | [ 0.063] | [-2.189]\n",
      "iter      2/10 after   0.0 sec  ELBO  0.000000e+00 | [ 0.063] | [-2.189]\n",
      "iter     10/10 after   0.0 sec  ELBO  0.000000e+00 | [ 0.063] | [-2.189]\n",
      "\n",
      "Chain 2/3 phase 0\n",
      "S =     10 | step_size of m 0.001 | step_size of rs 0.001\n",
      "iter      0/10 after   0.0 sec  ELBO  0.000000e+00 | [-0.147] | [-2.399]\n",
      "iter      1/10 after   0.0 sec  ELBO  0.000000e+00 | [-0.147] | [-2.399]\n",
      "iter      2/10 after   0.0 sec  ELBO  0.000000e+00 | [-0.147] | [-2.399]\n",
      "iter     10/10 after   0.0 sec  ELBO  0.000000e+00 | [-0.147] | [-2.399]\n",
      "Chain 2/3 phase 1\n",
      "S =     10 | step_size of m 0.001 | step_size of rs 0.001\n",
      "iter      0/10 after   0.0 sec  ELBO  0.000000e+00 | [-0.147] | [-2.399]\n",
      "iter      1/10 after   0.0 sec  ELBO  0.000000e+00 | [-0.147] | [-2.399]\n",
      "iter      2/10 after   0.0 sec  ELBO  0.000000e+00 | [-0.147] | [-2.399]\n",
      "iter     10/10 after   0.0 sec  ELBO  0.000000e+00 | [-0.147] | [-2.399]\n",
      "Chain 2/3 phase 2\n",
      "S =     10 | step_size of m 0.001 | step_size of rs 0.001\n",
      "iter      0/10 after   0.0 sec  ELBO  0.000000e+00 | [-0.147] | [-2.399]\n",
      "iter      1/10 after   0.0 sec  ELBO  0.000000e+00 | [-0.147] | [-2.399]\n",
      "iter      2/10 after   0.0 sec  ELBO  0.000000e+00 | [-0.147] | [-2.399]\n",
      "iter     10/10 after   0.0 sec  ELBO  0.000000e+00 | [-0.147] | [-2.399]\n",
      "\n",
      "Chain 3/3 phase 0\n",
      "S =     10 | step_size of m 0.001 | step_size of rs 0.001\n",
      "iter      0/10 after   0.0 sec  ELBO  0.000000e+00 | [-0.070] | [-2.322]\n",
      "iter      1/10 after   0.0 sec  ELBO  0.000000e+00 | [-0.070] | [-2.322]\n",
      "iter      2/10 after   0.0 sec  ELBO  0.000000e+00 | [-0.070] | [-2.322]\n",
      "iter     10/10 after   0.0 sec  ELBO  0.000000e+00 | [-0.070] | [-2.322]\n",
      "Chain 3/3 phase 1\n",
      "S =     10 | step_size of m 0.001 | step_size of rs 0.001\n",
      "iter      0/10 after   0.0 sec  ELBO  0.000000e+00 | [-0.070] | [-2.322]\n",
      "iter      1/10 after   0.0 sec  ELBO  0.000000e+00 | [-0.070] | [-2.322]\n",
      "iter      2/10 after   0.0 sec  ELBO  0.000000e+00 | [-0.070] | [-2.322]\n",
      "iter     10/10 after   0.0 sec  ELBO  0.000000e+00 | [-0.070] | [-2.322]\n",
      "Chain 3/3 phase 2\n",
      "S =     10 | step_size of m 0.001 | step_size of rs 0.001\n",
      "iter      0/10 after   0.0 sec  ELBO  0.000000e+00 | [-0.070] | [-2.322]\n",
      "iter      1/10 after   0.0 sec  ELBO  0.000000e+00 | [-0.070] | [-2.322]\n",
      "iter      2/10 after   0.0 sec  ELBO  0.000000e+00 | [-0.070] | [-2.322]\n",
      "iter     10/10 after   0.0 sec  ELBO  0.000000e+00 | [-0.070] | [-2.322]\n"
     ]
    }
   ],
   "source": [
    "for chain_id in chain_list:\n",
    "    random_state = 100 * rep + chain_id\n",
    "    \n",
    "    # Initialize the m and r parameters of q\n",
    "    q_means = fill_q_params_with_draws_from_normal(\n",
    "        1, 1, arch0,\n",
    "        mean=0.0,\n",
    "        stddev=0.2,\n",
    "        random_state=random_state)\n",
    "    q_rs = fill_q_params_with_draws_from_normal(\n",
    "        1, 1, arch0,\n",
    "        mean=invsoftplus(0.1), # typical stddev should be 0.1\n",
    "        stddev=0.2,\n",
    "        random_state=random_state)\n",
    "    print()\n",
    "    for phase in S_by_phase.keys():\n",
    "        print(\"Chain %d/%d phase %d\" % (chain_id, len(chain_list), phase))\n",
    "        q_means, q_rs, hist = optimize_q_via_stochastic_gradient_ascent(\n",
    "            q_means, q_rs,\n",
    "            n_mc_samples=S_by_phase[phase],\n",
    "            step_size_m=ssm_by_phase[phase],\n",
    "            step_size_rs=ssr_by_phase[phase],\n",
    "            random_state=random_state,\n",
    "            print_every=100,\n",
    "            n_iters=n_iters_by_phase[phase])\n",
    "        qm_by_chain[chain_id] = q_means\n",
    "        qrs_by_chain[chain_id] = q_rs\n",
    "        history_by_chain[(chain_id, phase)] = hist"
   ]
  },
  {
   "cell_type": "markdown",
   "metadata": {},
   "source": [
    "<a id=\"problem-2a\"></a>\n",
    "\n",
    "## Figure 2a : ELBO, means, and realstddevs over iterations"
   ]
  },
  {
   "cell_type": "code",
   "execution_count": 66,
   "metadata": {},
   "outputs": [
    {
     "data": {
      "image/png": "[encoded data removed]",
      "text/plain": [
       "<Figure size 1368x288 with 3 Axes>"
      ]
     },
     "metadata": {
      "needs_background": "light"
     },
     "output_type": "display_data"
    }
   ],
   "source": [
    "color_by_chain = {1:'b', 2:'r', 3:'g'}\n",
    "_, axgrid = plt.subplots(nrows=1, ncols=3, figsize=(3*W+1, H),\n",
    "                         sharex=True, sharey=False)\n",
    "for chain in chain_list:\n",
    "    color = color_by_chain[chain]\n",
    "    M = 0\n",
    "    for rep in [0,1,2]:\n",
    "        iter_T = history_by_chain[(chain,rep)]['iter']\n",
    "        elbo_T = history_by_chain[(chain,rep)]['elbo']\n",
    "        label = 'chain%02d finalELBO % 7.2f' % (chain, elbo_T[-10:].mean()) if rep == 2 else None                                                if rep == 2 else None\n",
    "        axgrid[0].plot(M + iter_T, elbo_T, color=color, linestyle='-', label=label)\n",
    "        \n",
    "        m_T = [mlist[-1]['w'].flatten() for mlist in history_by_chain[(chain,rep)]['q_m']]\n",
    "        axgrid[1].plot(M + iter_T, m_T, color=color, linestyle='-')\n",
    "        \n",
    "        rs_T = [rlist[-1]['w'].flatten() for rlist in history_by_chain[(chain,rep)]['q_rs']]\n",
    "        axgrid[2].plot(M + iter_T, rs_T, color=color, linestyle='-')\n",
    "\n",
    "        M += iter_T.max();\n",
    "\n",
    "axgrid[0].set_ylabel(\"ELBO\"); axgrid[0].legend(loc='lower right');\n",
    "axgrid[1].set_ylabel(\"m\"); axgrid[1].set_ylim([-1.0, 1.0]);\n",
    "axgrid[2].set_ylabel(\"r\"); axgrid[2].set_ylim([-3.0, 0.0]);\n",
    "for ax in axgrid:\n",
    "    ax.set_xlabel('iteration');\n",
    "#axgrid[0].set_ylim([-250, -140]); # TODO use these ylims if possible"
   ]
  },
  {
   "cell_type": "markdown",
   "metadata": {},
   "source": [
    "### **Caption for Fig 2a:**  TODO Write this\n",
    "\n",
    "TODO\n",
    "\n",
    "* the specific number of Monte Carlo samples and step-sizes used\n",
    "* 1-2 sentences summarizing your strategy for selecting these values\n",
    "* your assessment of whether the plots indicate each chain has \"converged\""
   ]
  },
  {
   "cell_type": "markdown",
   "metadata": {},
   "source": [
    "## Prep for Fig 2b\n",
    "\n",
    "Given the optimal $q$ from each chain above, let's look at its posterior predictive by:\n",
    "\n",
    "* Drawing $S$ samples of weights/biases from q\n",
    "* Drawing $S$ samples of $y_*$ at each of the $T$ test inputs $x_*$ defined above (see defn of x_grid_T1)\n",
    "\n",
    "We can then *reuse* the posterior predictive visualization tools from HW2.\n",
    "\n",
    "The following code works out of the box. No need to edit it."
   ]
  },
  {
   "cell_type": "code",
   "execution_count": 67,
   "metadata": {},
   "outputs": [],
   "source": [
    "S = 200\n",
    "opts = {'n_samples_burnin':0, 'n_samples_keep':S}\n",
    "history0_nn_samples_by_chain = {}\n",
    "history0_y_ST_by_chain = {}\n",
    "for chain in chain_list:\n",
    "    # Draw S different weight/bias samples\n",
    "    history0_nn_samples_by_chain[chain] = sample_nn_params_from_q(\n",
    "        qm_by_chain[chain],\n",
    "        qrs_by_chain[chain],\n",
    "        n_samples=S,\n",
    "        random_state=random_state)\n",
    "    \n",
    "    # Draw y_* values for each of the S weights\n",
    "    y_ST = np.zeros((S,T))\n",
    "    prng = np.random.RandomState(1000 * chain + 1)\n",
    "    for ss in range(S):\n",
    "        nn_ss = history0_nn_samples_by_chain[chain][ss]\n",
    "        f_ss_T = predict_f_given_x(x_grid_T1, nn_ss)        \n",
    "        y_ST[ss] = prng.normal(f_ss_T, model_hypers['tau'])\n",
    "    history0_y_ST_by_chain[chain] = y_ST"
   ]
  },
  {
   "cell_type": "markdown",
   "metadata": {},
   "source": [
    "<a id=\"problem-2b\"></a>\n",
    "\n",
    "## Fig. 2b: Posterior predictive visuals via optimal q for arch []"
   ]
  },
  {
   "cell_type": "code",
   "execution_count": 68,
   "metadata": {},
   "outputs": [
    {
     "data": {
      "image/png": "[encoded data removed]",
      "text/plain": [
       "<Figure size 936x864 with 6 Axes>"
      ]
     },
     "metadata": {
      "needs_background": "light"
     },
     "output_type": "display_data"
    }
   ],
   "source": [
    "viz_utils.show_posterior_predictive_samples_and_intervals(\n",
    "    history0_nn_samples_by_chain, history0_y_ST_by_chain,\n",
    "    x_grid_T=x_grid_T, x_NF=x_NF, y_N=y_N, sampler_options=opts)\n",
    "plt.ylim([-2, 7]);"
   ]
  },
  {
   "cell_type": "markdown",
   "metadata": {},
   "source": [
    "### **Caption for Fig 2b:** TODO Write this\n",
    "\n",
    "TODO summarize how these estimated posteriors compare to the exact posterior for arch [] from HW2.\n"
   ]
  },
  {
   "cell_type": "markdown",
   "metadata": {},
   "source": [
    "# Problem 3: NN regression on COVID-19 data with arch [8]\n",
    "\n",
    "Same goals as problem 2, now with a more sophisticated model (1 hidden layer, 8 units)."
   ]
  },
  {
   "cell_type": "code",
   "execution_count": 69,
   "metadata": {},
   "outputs": [],
   "source": [
    "arch8 = [8]\n",
    "\n",
    "ss = 1e-6\n",
    "ssm_by_phase = {0:ss, 1:ss, 2:ss}\n",
    "ssr_by_phase = {0:ss, 1:ss, 2:ss}\n",
    "S_by_phase = {0:10, 1:10, 2:10}\n",
    "n_iters_by_phase = {0:50, 1:50, 2:50}\n",
    "\n",
    "chain_list = [1,2,3]"
   ]
  },
  {
   "cell_type": "code",
   "execution_count": 70,
   "metadata": {},
   "outputs": [],
   "source": [
    "qm8_by_chain = {}\n",
    "qr8_by_chain = {}\n",
    "history8_by_chain = {}"
   ]
  },
  {
   "cell_type": "code",
   "execution_count": 71,
   "metadata": {},
   "outputs": [
    {
     "name": "stdout",
     "output_type": "stream",
     "text": [
      "Chain 1/3\n",
      "S =     10 | step_size of m 1e-06 | step_size of rs 1e-06\n",
      "iter      0/50 after   0.1 sec  ELBO  0.000000e+00 | [-0.010  0.382] | [-2.262 -1.871]\n",
      "iter      1/50 after   0.1 sec  ELBO  0.000000e+00 | [-0.010  0.382] | [-2.262 -1.871]\n",
      "iter      2/50 after   0.1 sec  ELBO  0.000000e+00 | [-0.010  0.382] | [-2.262 -1.871]\n",
      "iter     50/50 after   0.1 sec  ELBO  0.000000e+00 | [-0.010  0.382] | [-2.262 -1.871]\n",
      "S =     10 | step_size of m 1e-06 | step_size of rs 1e-06\n",
      "iter      0/50 after   0.0 sec  ELBO  0.000000e+00 | [-0.010  0.382] | [-2.262 -1.871]\n",
      "iter      1/50 after   0.0 sec  ELBO  0.000000e+00 | [-0.010  0.382] | [-2.262 -1.871]\n",
      "iter      2/50 after   0.0 sec  ELBO  0.000000e+00 | [-0.010  0.382] | [-2.262 -1.871]\n",
      "iter     50/50 after   0.0 sec  ELBO  0.000000e+00 | [-0.010  0.382] | [-2.262 -1.871]\n",
      "S =     10 | step_size of m 1e-06 | step_size of rs 1e-06\n",
      "iter      0/50 after   0.0 sec  ELBO  0.000000e+00 | [-0.010  0.382] | [-2.262 -1.871]\n",
      "iter      1/50 after   0.0 sec  ELBO  0.000000e+00 | [-0.010  0.382] | [-2.262 -1.871]\n",
      "iter      2/50 after   0.0 sec  ELBO  0.000000e+00 | [-0.010  0.382] | [-2.262 -1.871]\n",
      "iter     50/50 after   0.0 sec  ELBO  0.000000e+00 | [-0.010  0.382] | [-2.262 -1.871]\n",
      "Chain 2/3\n",
      "S =     10 | step_size of m 1e-06 | step_size of rs 1e-06\n",
      "iter      0/50 after   0.0 sec  ELBO  0.000000e+00 | [-0.272  0.047] | [-2.524 -2.205]\n",
      "iter      1/50 after   0.0 sec  ELBO  0.000000e+00 | [-0.272  0.047] | [-2.524 -2.205]\n",
      "iter      2/50 after   0.0 sec  ELBO  0.000000e+00 | [-0.272  0.047] | [-2.524 -2.205]\n",
      "iter     50/50 after   0.0 sec  ELBO  0.000000e+00 | [-0.272  0.047] | [-2.524 -2.205]\n",
      "S =     10 | step_size of m 1e-06 | step_size of rs 1e-06\n",
      "iter      0/50 after   0.0 sec  ELBO  0.000000e+00 | [-0.272  0.047] | [-2.524 -2.205]\n",
      "iter      1/50 after   0.0 sec  ELBO  0.000000e+00 | [-0.272  0.047] | [-2.524 -2.205]\n",
      "iter      2/50 after   0.0 sec  ELBO  0.000000e+00 | [-0.272  0.047] | [-2.524 -2.205]\n",
      "iter     50/50 after   0.0 sec  ELBO  0.000000e+00 | [-0.272  0.047] | [-2.524 -2.205]\n",
      "S =     10 | step_size of m 1e-06 | step_size of rs 1e-06\n",
      "iter      0/50 after   0.0 sec  ELBO  0.000000e+00 | [-0.272  0.047] | [-2.524 -2.205]\n",
      "iter      1/50 after   0.0 sec  ELBO  0.000000e+00 | [-0.272  0.047] | [-2.524 -2.205]\n",
      "iter      2/50 after   0.0 sec  ELBO  0.000000e+00 | [-0.272  0.047] | [-2.524 -2.205]\n",
      "iter     50/50 after   0.0 sec  ELBO  0.000000e+00 | [-0.272  0.047] | [-2.524 -2.205]\n",
      "Chain 3/3\n",
      "S =     10 | step_size of m 1e-06 | step_size of rs 1e-06\n",
      "iter      0/50 after   0.0 sec  ELBO  0.000000e+00 | [ 0.003 -0.062] | [-2.249 -2.314]\n",
      "iter      1/50 after   0.0 sec  ELBO  0.000000e+00 | [ 0.003 -0.062] | [-2.249 -2.314]\n",
      "iter      2/50 after   0.0 sec  ELBO  0.000000e+00 | [ 0.003 -0.062] | [-2.249 -2.314]\n",
      "iter     50/50 after   0.0 sec  ELBO  0.000000e+00 | [ 0.003 -0.062] | [-2.249 -2.314]\n",
      "S =     10 | step_size of m 1e-06 | step_size of rs 1e-06\n",
      "iter      0/50 after   0.0 sec  ELBO  0.000000e+00 | [ 0.003 -0.062] | [-2.249 -2.314]\n",
      "iter      1/50 after   0.0 sec  ELBO  0.000000e+00 | [ 0.003 -0.062] | [-2.249 -2.314]\n",
      "iter      2/50 after   0.0 sec  ELBO  0.000000e+00 | [ 0.003 -0.062] | [-2.249 -2.314]\n",
      "iter     50/50 after   0.0 sec  ELBO  0.000000e+00 | [ 0.003 -0.062] | [-2.249 -2.314]\n",
      "S =     10 | step_size of m 1e-06 | step_size of rs 1e-06\n",
      "iter      0/50 after   0.0 sec  ELBO  0.000000e+00 | [ 0.003 -0.062] | [-2.249 -2.314]\n",
      "iter      1/50 after   0.0 sec  ELBO  0.000000e+00 | [ 0.003 -0.062] | [-2.249 -2.314]\n",
      "iter      2/50 after   0.0 sec  ELBO  0.000000e+00 | [ 0.003 -0.062] | [-2.249 -2.314]\n",
      "iter     50/50 after   0.0 sec  ELBO  0.000000e+00 | [ 0.003 -0.062] | [-2.249 -2.314]\n"
     ]
    }
   ],
   "source": [
    "for chain_id in chain_list:\n",
    "    print(\"Chain %d/%d\" % (chain_id, len(chain_list)))\n",
    "    random_state = 100 * rep + chain_id\n",
    "    q8_means = fill_q_params_with_draws_from_normal(\n",
    "        1, 1, arch8,\n",
    "        mean=0.0,\n",
    "        stddev=0.2,\n",
    "        random_state=random_state)\n",
    "    q8_rs = fill_q_params_with_draws_from_normal(\n",
    "        1, 1, arch8,\n",
    "        mean=invsoftplus(0.1), # typical stddev should be 0.1\n",
    "        stddev=0.2,\n",
    "        random_state=random_state)\n",
    "\n",
    "    for phase in S_by_phase.keys():\n",
    "        q8_means, q8_rs, hist8 = optimize_q_via_stochastic_gradient_ascent(\n",
    "            q8_means, q8_rs,\n",
    "            n_mc_samples=S_by_phase[phase],\n",
    "            step_size_m=ssm_by_phase[phase],\n",
    "            step_size_rs=ssr_by_phase[phase],\n",
    "            random_state=random_state,\n",
    "            print_every=100,\n",
    "            n_iters=n_iters_by_phase[phase])\n",
    "        qm8_by_chain[chain_id] = q8_means\n",
    "        qr8_by_chain[chain_id] = q8_rs\n",
    "        history8_by_chain[(chain_id, phase)] = hist8"
   ]
  },
  {
   "cell_type": "markdown",
   "metadata": {},
   "source": [
    "<a id=\"problem-3a\"></a>\n",
    "\n",
    "## Fig 3a"
   ]
  },
  {
   "cell_type": "code",
   "execution_count": 72,
   "metadata": {},
   "outputs": [
    {
     "data": {
      "image/png": "[encoded data removed]",
      "text/plain": [
       "<Figure size 1368x288 with 3 Axes>"
      ]
     },
     "metadata": {
      "needs_background": "light"
     },
     "output_type": "display_data"
    }
   ],
   "source": [
    "color_by_chain = {1:'b', 2:'r', 3:'g'}\n",
    "_, axgrid = plt.subplots(nrows=1, ncols=3, figsize=(3*W+1, H),\n",
    "                         sharex=True, sharey=False)\n",
    "\n",
    "for chain in chain_list:\n",
    "    color = color_by_chain[chain]\n",
    "    M = 0\n",
    "    for rep in [0,1,2]:\n",
    "        iter_T = history8_by_chain[(chain,rep)]['iter']\n",
    "        elbo_T = history8_by_chain[(chain,rep)]['elbo']\n",
    "        label = 'chain%02d finalELBO % 7.2f' % (chain, elbo_T[-5:].mean()) if rep == 2 else None                                                if rep == 2 else None\n",
    "        axgrid[0].plot(M + iter_T, elbo_T, color=color, linestyle='-', label=label)\n",
    "        \n",
    "        # Show means of first 2 weights of last layer\n",
    "        m_T = [mlist[-1]['w'].flatten()[:2] for mlist in history8_by_chain[(chain,rep)]['q_m']]\n",
    "        axgrid[1].plot(M + iter_T, m_T, color=color, linestyle='-')\n",
    "        \n",
    "        # Show realstddevs of first 2 weights of last layer\n",
    "        rs_T = [rlist[-1]['w'].flatten()[:2] for rlist in history8_by_chain[(chain,rep)]['q_rs']]\n",
    "        axgrid[2].plot(M + iter_T, rs_T, color=color, linestyle='-')\n",
    "\n",
    "        M += iter_T.max();\n",
    "\n",
    "axgrid[0].set_ylabel(\"ELBO\"); axgrid[0].legend(loc='lower right')\n",
    "axgrid[1].set_ylabel(\"m\"); axgrid[1].set_ylim([-5.0, 5.0]);\n",
    "axgrid[2].set_ylabel(\"r\"); axgrid[2].set_ylim([-3.0, 0.0]);\n",
    "\n",
    "#axgrid[0].set_ylim([-400, -120]); # TODO try to use these lims when code is working"
   ]
  },
  {
   "cell_type": "markdown",
   "metadata": {},
   "source": [
    "### **Caption for Fig 3a**: TODO WRITE THIS \n",
    "\n",
    "TODO \n",
    "\n",
    "* the specific number of Monte Carlo samples and step-sizes used\n",
    "* 1-2 sentences summarizing your strategy for selecting these values\n",
    "* your assessment of whether the plots indicate each chain has \"converged\""
   ]
  },
  {
   "cell_type": "markdown",
   "metadata": {},
   "source": [
    "## Prep for Fig 3b\n",
    "\n",
    "Again, provided for you out-of-the-box so you can immediately visualize the posteriors from your BBVI runs"
   ]
  },
  {
   "cell_type": "code",
   "execution_count": 73,
   "metadata": {},
   "outputs": [],
   "source": [
    "S = 200\n",
    "B = 0\n",
    "opts = {'n_samples_burnin':B, 'n_samples_keep':S}\n",
    "history8_nn_samples_by_chain = {}\n",
    "history8_y_ST_by_chain = {}\n",
    "for chain in chain_list:\n",
    "    history8_nn_samples_by_chain[chain] = sample_nn_params_from_q(\n",
    "        qm8_by_chain[chain],\n",
    "        qr8_by_chain[chain],\n",
    "        n_samples=S,\n",
    "        random_state=random_state)\n",
    "    y_ST = np.zeros((S,T))\n",
    "    prng = np.random.RandomState(1000 * chain + 1)\n",
    "    for ss in range(S):\n",
    "        nn_ss = history8_nn_samples_by_chain[chain][B+ss]\n",
    "        f_ss_T = predict_f_given_x(x_grid_T1, nn_ss)        \n",
    "        y_ST[ss] = prng.normal(f_ss_T, model_hypers['tau'])\n",
    "    history8_y_ST_by_chain[chain] = y_ST"
   ]
  },
  {
   "cell_type": "markdown",
   "metadata": {},
   "source": [
    "<a id=\"problem-3b\"></a>\n",
    "\n",
    "## Fig 3b: Posterior predictive via optimal q for arch [8]"
   ]
  },
  {
   "cell_type": "code",
   "execution_count": 74,
   "metadata": {},
   "outputs": [
    {
     "data": {
      "image/png": "[encoded data removed]",
      "text/plain": [
       "<Figure size 936x864 with 6 Axes>"
      ]
     },
     "metadata": {
      "needs_background": "light"
     },
     "output_type": "display_data"
    }
   ],
   "source": [
    "viz_utils.show_posterior_predictive_samples_and_intervals(\n",
    "    history8_nn_samples_by_chain, history8_y_ST_by_chain,\n",
    "    x_grid_T=x_grid_T, x_NF=x_NF, y_N=y_N, sampler_options=opts)\n",
    "plt.ylim([-2, 7]);"
   ]
  },
  {
   "cell_type": "markdown",
   "metadata": {},
   "source": [
    "### **Caption for Fig 3b:** TODO WRITE THIS\n",
    "\n",
    "TODO summarize whether the *best* of your chains with arch [8] visually fits the data better than the simpler linear model, and whether the corresponding ELBO of that chain suggests the fit is better.\n"
   ]
  },
  {
   "cell_type": "code",
   "execution_count": null,
   "metadata": {},
   "outputs": [],
   "source": []
  }
 ],
 "metadata": {
  "kernelspec": {
   "display_name": "Python 3 (ipykernel)",
   "language": "python",
   "name": "python3"
  },
  "language_info": {
   "codemirror_mode": {
    "name": "ipython",
    "version": 3
   },
   "file_extension": ".py",
   "mimetype": "text/x-python",
   "name": "python",
   "nbconvert_exporter": "python",
   "pygments_lexer": "ipython3",
   "version": "3.8.0"
  }
 },
 "nbformat": 4,
 "nbformat_minor": 2
}
