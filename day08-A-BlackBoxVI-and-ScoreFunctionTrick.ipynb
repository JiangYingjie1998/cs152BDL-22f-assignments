{
 "cells": [
  {
   "cell_type": "markdown",
   "id": "5ef0264b",
   "metadata": {},
   "source": [
    "# day08 - Black-box Variational Inference and the Score Function Trick\n",
    "\n",
    "In this notebook, we'll cover\n",
    "\n",
    "* Part 0: Recap of Variational Inference\n",
    "* Part 1: Computing an ELBO via Monte-Carlo samples\n",
    "* Part 2: The Problem with Gradients of the Monte Carlo ELBO\n",
    "* Part 3: Score Function Trick\n",
    "* Part 4: Gradients of the ELBO via the Score Function Trick\n",
    "* Part 5: Example Implementation\n",
    "\n",
    "# Prerequisites\n",
    "\n",
    "Check out today's reading\n",
    "\n",
    "* [Black-Box Variational Inference](https://arxiv.org/pdf/1601.00670.pdf) by Ranganath, Gerrish, and Blei\n",
    "* * Esp. [Algorithm 1: BBVI](https://arxiv.org/pdf/1401.0118.pdf#page=3)\n",
    "* [Blog post on the Score Function Trick](https://web.archive.org/web/20180303004918/http://blog.shakirm.com/2015/11/machine-learning-trick-of-the-day-5-log-derivative-trick/) by Shakir Mohamed\n",
    "\n",
    "We'll try to use the same notation as in the BBVI paper"
   ]
  },
  {
   "cell_type": "markdown",
   "id": "c4eda5bf",
   "metadata": {},
   "source": [
    "# Requirements\n",
    "\n",
    "There are two ways to run this notebook\n",
    "\n",
    "<table style=\"table-medium\">\n",
    "    <tr>\n",
    "        <td style=\"align:left; text-align:left;\"> <h2> Run in-browser (no install necessary) </h2>\n",
    "        </td>\n",
    "        <td style=\"align:left; text-align:left;\"> <h2> Run locally on your computer </h2>\n",
    "        </td>        \n",
    "    </tr>\n",
    "    <tr>\n",
    "         <td style=\"align:left; text-align:left;\">\n",
    "             <p>You can use <a href=\"https://colab.research.google.com/\">Google Colab </a> </p>\n",
    "             <p>You'll need:</p>\n",
    "             <ul>\n",
    "             <li> internet connection </li>\n",
    "             <li>  Modern browser (Firefox, Chrome, Safari, Edge, etc) </li>\n",
    "             <li> Google account </li>\n",
    "             <li> Warning: session will timeout after 12 hours, or sooner if inactive </li>\n",
    "             <li> Plan to save work if you want it later </li>\n",
    "         </ul></td>\n",
    "         <td style=\"align:left; text-align:left;\">\n",
    "             <p>You can use <a href=\"https://jupyter.org/\">Jupyter notebook </a> </p>\n",
    "             <p>You'll need:</p>             <ul>\n",
    "             <li> Linux, Mac OS or other modern Unix-based OS (sorry, Windows + JAX is difficult) </li>\n",
    "             <li> Conda package manager </li>\n",
    "             <li> Python 3.8+ </li>\n",
    "             <li> All packages from <a href=\"https://www.cs.tufts.edu/comp/152BDL/2022f/bdl_2022f_env.html\">bdl_2022f_env</a> \n",
    "                 , see <a href=\"https://www.cs.tufts.edu/comp/152BDL/2022f/setup_python_env.html\">\n",
    "                 Install Instructions on Course Website </a>\n",
    "             </li>\n",
    "         </ul></td>\n",
    "    </tr>\n",
    "</table>\n"
   ]
  },
  {
   "cell_type": "code",
   "execution_count": 1,
   "id": "cd1eb149",
   "metadata": {},
   "outputs": [],
   "source": [
    "# Import numpy and other basic libraries\n",
    "import numpy as np\n",
    "import pandas as pd\n",
    "import time, os, platform"
   ]
  },
  {
   "cell_type": "code",
   "execution_count": 2,
   "id": "e18b6675",
   "metadata": {},
   "outputs": [],
   "source": [
    "## Import JAX\n",
    "import jax\n",
    "import jax.numpy as jnp\n",
    "import jax.scipy.stats as jstats"
   ]
  },
  {
   "cell_type": "code",
   "execution_count": 3,
   "id": "0ad69ed6",
   "metadata": {},
   "outputs": [],
   "source": [
    "# Import packages for plotting\n",
    "import matplotlib\n",
    "import matplotlib.pyplot as plt\n",
    "import seaborn as sns\n",
    "sns.set_style(\"whitegrid\")\n",
    "sns.set_context(\"notebook\", font_scale=1.25)"
   ]
  },
  {
   "cell_type": "markdown",
   "id": "f3de77ae",
   "metadata": {},
   "source": [
    "## Report OS and CPU information"
   ]
  },
  {
   "cell_type": "code",
   "execution_count": 4,
   "id": "26b27b71",
   "metadata": {},
   "outputs": [
    {
     "name": "stdout",
     "output_type": "stream",
     "text": [
      "========== Information about OS and CPU ==========\n",
      "Node Name: tufts-wifi-10-5-4-240.eecs.tufts.edu\n",
      "System: Darwin\n",
      "Version: Darwin Kernel Version 20.6.0: Tue Feb 22 21:10:41 PST 2022; root:xnu-7195.141.26~1/RELEASE_X86_64\n",
      "Machine: x86_64  Processor: i386\n",
      "Num cores:  8\n"
     ]
    }
   ],
   "source": [
    "uname = platform.uname()\n",
    "B = 10\n",
    "print(\"=\"*B, \"Information about OS and CPU\", \"=\"*B)\n",
    "print(f\"Node Name: {uname.node}\")\n",
    "print(f\"System: {uname.system}\")\n",
    "print(f\"Version: {uname.version}\")\n",
    "print(f\"Machine: {uname.machine}  Processor: {uname.processor}\")\n",
    "print(\"Num cores: \", os.cpu_count())"
   ]
  },
  {
   "cell_type": "markdown",
   "id": "01dddc46",
   "metadata": {},
   "source": [
    "## Report exact versions of required packages in local env"
   ]
  },
  {
   "cell_type": "code",
   "execution_count": 5,
   "id": "e838ce01",
   "metadata": {},
   "outputs": [
    {
     "name": "stdout",
     "output_type": "stream",
     "text": [
      "========== Packages in local env ==========\n",
      "       numpy 1.22.4\n",
      "         jax 0.3.17\n",
      "  matplotlib 3.5.2\n",
      "     seaborn 0.11.2\n"
     ]
    }
   ],
   "source": [
    "print(\"=\"*B, \"Packages in local env\", \"=\"*B)\n",
    "for pkg in [np, jax, matplotlib, sns]:\n",
    "  print(\"%12s %s\" % (pkg.__name__, pkg.__version__))"
   ]
  },
  {
   "cell_type": "markdown",
   "id": "bd7534de",
   "metadata": {},
   "source": [
    "# Part 0: Recap of VI : Approximate Posterior Estimation via Optimization\n",
    "\n",
    "In general, we're often interested in a model with two kinds of random variables\n",
    "\n",
    "* $z$ : \"hidden\" parameters of the model, can never really be observed\n",
    "* $x$ : observable data\n",
    "\n",
    "The model is defined as a joint distribution $p(z, x) = p(z) p(x | z)$.\n",
    "\n",
    "Given $N$ training observations $x_{1:N}$, we seek the posterior $p( z | x_{1:N} )$"
   ]
  },
  {
   "cell_type": "markdown",
   "id": "b93464a7",
   "metadata": {},
   "source": [
    "We'd like to compute the posterior PDF $p(z | x_{1:N})$ directly, but it is **intractable** (we only know it up to a hard-to-compute normalization constant).\n",
    "\n",
    "Instead, VI's purpose is to approximate the posterior. The essential idea of VI is that we want to solve a *tractable optimization problem* to estimate an *approximation* of the posterior.\n",
    "\n",
    "We'll set up the problem by making two key design decisions:\n",
    "\n",
    "\n",
    "* Pick a *simpler* family of distributions $q(z;\\nu)$ over the same random variable $z$, parameterized by $\\nu \\in \\mathcal{V}$\n",
    "\n",
    "* Pick a suitable *cost function*, that for any $\\nu \\in \\mathcal{V}$ scores how well the specific $q$ with parameter $\\nu$ matches the target posterior $p(z | x_{1:N})$\n",
    "\n",
    "Armed with these choices, we could then solve an optimization problem\n",
    "\n",
    "\\begin{align}\n",
    "    \\nu^* \\gets \\arg\\!\\min_{\\nu \\in \\mathcal{V}} ~\\text{cost}( q( z; \\nu), p( z|x_{1:N}) )\n",
    "\\end{align}\n",
    "\n",
    "We could then take $q$ with the optimal parameter $\\nu^*$ as the (approximate) posterior!\n",
    "\n",
    "* We could sample $z^s \\sim q( \\cdot ; \\nu^*)$ and treat them like samples from the posterior\n",
    "* We could evaluate the PDF $q( z | \\nu^*)$ and treat it like a PDF of the posterior\n",
    "\n",
    "The diagram below illustrates an **iterative solution** to the optimization problem above.\n",
    "\n",
    "<img src=\"vi_diagram.png\">\n",
    "\n",
    "&nbsp; &nbsp; &nbsp; &nbsp; &nbsp; &nbsp; &nbsp; &nbsp; &nbsp; &nbsp; &nbsp; &nbsp; Image Credit: [D. Blei's VI Tutorial](https://www.cs.columbia.edu/~blei/talks/Blei_VI_tutorial.pdf)\n",
    "\n",
    "Previously, we learned that:\n",
    "\n",
    "* Picking $q$ to be simple, well-understood density families like the Normal is often tractable\n",
    "* Picking the cost function to be the KL divergence from $q$ to the true posterior is also tractable\n",
    "* * This is because there's a related function, the ELBO, that if maximized is equivalent to minimizing KL\n",
    "\n",
    "Today, we'll start to figure out how we can do *gradient-based optimization* for many different models using these assumptions."
   ]
  },
  {
   "cell_type": "code",
   "execution_count": null,
   "id": "554bd199",
   "metadata": {},
   "outputs": [],
   "source": []
  },
  {
   "cell_type": "markdown",
   "id": "e3cbe98e",
   "metadata": {},
   "source": [
    "# Part 1: Computing the ELBO via Monte Carlo samples\n",
    "\n",
    "Recall that the objective we want to optimize is the ELBO\n",
    "\n",
    "\\begin{align}\n",
    "\\text{ELBO}(\\nu; x_{1:N}) = \\mathbb{E}_{q(z; \\nu)} \\left[ \\log p(x_{1:N} | z) + \\log \\frac{p(z)}{q(z | \\nu)} \\right]\n",
    "\\end{align}\n",
    "\n",
    "For some models, the expectations that define ELBO can be computed in closed form.\n",
    "\n",
    "But in general, even if expectations are tough we can get an estimate via *Monte Carlo approximation* of the expectation\n",
    "\n",
    "$$\n",
    "\\text{ELBO}(\\nu; x_{1:N}) \\approx \\frac{1}{S}\\sum_{s=1}^S \\log p(x_{1:N} |z^s) + \\log \\frac{p(z^s) }{q(z^s)}\n",
    "$$\n",
    "\n",
    "where we've drawn $S$ independent samples $z^s \\sim q(\\cdot ; \\nu)$.\n",
    "\n",
    "In general, this is an **unbiased** estimate of the true ELBO. However, the error may be large if the number of samples $S$ is small.\n",
    "\n",
    "Here, we need $q$ to be quite tractable, requiring both:\n",
    "\n",
    "* ability to sample from $q$ to get the $z^s$\n",
    "* ability to evaluate PDF of $q$ at any sampled value"
   ]
  },
  {
   "cell_type": "markdown",
   "id": "65617bb5",
   "metadata": {},
   "source": [
    "# Part 2: A Problem with the Monte-Carlo ELBO: How to get Gradients?\n",
    "\n",
    "The above lets us *evaluate* the ELBO objective function at a specific candidate parameter vector $\\nu$.\n",
    "\n",
    "However, the *goal* of VI is to estimate the posterior by solving the optimization problem\n",
    "\n",
    "$$\n",
    "\\max_{\\nu \\in \\mathcal{V}} \\text{ELBO}(\\nu; x_{1:N} )\n",
    "$$\n",
    "\n",
    "To solve this efficiently in high dimensions, we need to be able to apply **gradient ascent** (ascent because we're *maximizing* the ELBO). \n",
    "\n",
    "To do this, we need to take the gradient of the ELBO function with respect to the variational parameters $\\nu$:\n",
    "\n",
    "$$\n",
    "\\nabla_{\\nu} \\text{ELBO}( \\nu; x_{1:N} )\n",
    "$$\n",
    "\n",
    "However, naively trying to apply a gradient operator to the MC approximation of the ELBO is problematic:\n",
    "\n",
    "Consider the gradient of a 1-sample MC approximation, where the sample is $z^s \\in \\mathbb{R}$\n",
    "\n",
    "\\begin{align}\n",
    "\\nabla_{\\nu} \\left[ \\log p( x_{1:N} | z^{s} ) + \\log p( z^{s} ) - \\log q( z^s ; \\nu ) \\right]\n",
    "\\end{align}\n",
    "\n",
    "Hopefully this makes the problem clear: after we sample a concrete value of the random variable $z^s$, that value is treated as fixed and we've lost any functional dependence on $\\nu$. However, in fact the random variable $z^s$ obviously *does* depend on $\\nu$ because we sample $z^s \\sim q( \\cdot ; \\nu)$."
   ]
  },
  {
   "cell_type": "markdown",
   "id": "54d8ecb1",
   "metadata": {},
   "source": [
    "# Part 3: Score Function Trick\n",
    "\n",
    "Black-box VI (BBVI) by Ranganath and Blei offers one nice way to resolve the problem in Part 2. This solution makes use of a concept from statistical optimization\n",
    "\n",
    "For any log pdf $q$ over any random variable $z$ with continuous parameter $\\nu \\in \\mathcal{V}$, we can define a quantity known as a **score function**.\n",
    "\n",
    "\\begin{align}\n",
    "\\textbf{Definition:} \n",
    "\\nabla_{\\nu} \\log q( z | \\nu) ~\\text{is the score function of $q$ wrt $\\nu$}\n",
    "\\end{align}\n",
    "\n",
    "This is called a \"score\" or \"score function\" for some historical reasons, going back to R. A. Fisher's work in the 1940s: See this stack overflow answer for more: https://stats.stackexchange.com/a/342374/13165\n",
    "\n",
    "For our purposes, you just need to be able to learn some properties of the score function.\n"
   ]
  },
  {
   "cell_type": "markdown",
   "id": "2211d696",
   "metadata": {},
   "source": [
    "## Score function Trick, aka Log Derivative Trick, a useful identity via chain rule\n",
    "\n",
    "Over and over again in statistics, the following useful identity can be found\n",
    "\n",
    "\\begin{align}\n",
    "\\nabla_{\\nu} \\log q(z | \\nu) = \\frac{1}{q(z|\\nu)} \\nabla_{\\nu} q(z | \\nu)\n",
    "\\end{align}\n",
    "\n",
    "We've simply applied the gradient via the chain rule on the composition of $\\log(\\cdot)$ and $q(z|\\nu)$"
   ]
  },
  {
   "cell_type": "markdown",
   "id": "dc050efa",
   "metadata": {},
   "source": [
    "## Corrolary of Score Function Trick: Expected value of the score is *zero*\n",
    "\n",
    "\\begin{align}\n",
    "\\mathbb{E}_q[ \\nabla_{\\nu} \\log q(z ; \\nu) ]\n",
    "    &= \\mathbb{E}_q \\left[ \\frac{1}{q(z;\\nu)} \\nabla_{\\nu} q(z ; \\nu) \\right] \n",
    "    \\qquad && \\text{by score function trick}\n",
    "    \\\\\n",
    "    &= \\int_z q(z; \\nu) \\left[ \\frac{1}{q(z;\\nu)} \\nabla_{\\nu} q(z; \\nu) \\right] dz\n",
    "    \\qquad && \\text{by defn of expectation}\n",
    "    \\\\\n",
    "    &= \\int_z \\nabla_{\\nu} q(z; \\nu) dz\n",
    "    \\qquad && \\text{$q$ term in numerator and denominator cancel out}\n",
    "    \\\\\n",
    "    &= \\nabla_{\\nu} \\left[ \\int_z  q(z; \\nu) dz \\right]\n",
    "    \\qquad && \\text{exchanging order of integral and derivative}\n",
    "    \\\\\n",
    "    &= \\nabla_{\\nu} \\left[ 1 \\right]\n",
    "    \\qquad && \\text{integral of any pdf over its domain is 1 by defn}\n",
    "    \\\\\n",
    "    &= 0\n",
    "    \\qquad && \\text{derivative of a constant}\n",
    "\\end{align}\n",
    "\n",
    "\n",
    "Want more details about why exchanging the integral and derivative is valid? Shakir M's blog post points us to this paper: https://www.jstor.org/stable/2632893?seq=1\n",
    "\n"
   ]
  },
  {
   "cell_type": "markdown",
   "id": "4df682e3",
   "metadata": {},
   "source": [
    "# Part 4: Gradient of the ELBO via Score Function Trick\n",
    "\n",
    "## How is the score function trick helpful? Apply the trick to the ELBO!\n",
    "\n",
    "\\begin{align}\n",
    "\\nabla_{\\nu} \\text{ELBO}(\\nu) \n",
    "    &= \\nabla_{\\nu} ~ \\mathbb{E}_q \\left[  \\log p( x_{1:N}, z) - \\log q(z;\\nu) \\right]\n",
    "    \\\\\n",
    "    &= \\nabla_{\\nu} ~ \\int_z q(z;\\nu) \\left[  \\log p( x_{1:N}, z) - \\log q(z;\\nu)  \\right] dz\n",
    "    \\\\\n",
    "    &= \\int_z  \\nabla_{\\nu} \\left[ q(z;\\nu) \\left[  \\log p( x_{1:N}, z) - \\log q(z;\\nu)  \\right] \\right] dz\n",
    "    && \\text{exchanging order of integral and derivative}\n",
    "\\end{align}\n",
    "\n",
    "By the product rule of taking gradients, the inner gradient becomes\n",
    "\n",
    "\\begin{align}\n",
    "   \\nabla_{\\nu} ~ \\Bigg[ q(z;\\nu) \\left( \\log p( x_{1:N}, z) - \\log q(z;\\nu)  \\right) \\Bigg]\n",
    "      &= [ \\nabla_{\\nu} q(z;\\nu) ] \\cdot \\left(  \\log p( x_{1:N}, z) - \\log q(z;\\nu)  \\right)\n",
    "      \\\\\n",
    "      & \\quad + q(z;\\nu) \\left( \\underbrace{\\nabla_{\\nu}[\\log p(x_{1:N}, z)]}_{\\text{zero bc const wrt $\\nu$}} \n",
    "          - \\underbrace{\\nabla_{\\nu}[ \\log q(z;\\nu)]}_{\\text{zero bc expected score is always zero}} \\right)\n",
    "\\end{align}\n",
    "\n",
    "The second term here cancels to zero! Returning to the original expression, the gradient of our ELBO, we have\n",
    "\n",
    "\\begin{align}\n",
    "\\nabla_{\\nu} \\text{ELBO}(\\nu) \n",
    "    &= \\int_z  \\nabla_{\\nu} \\left[ q(z;\\nu) \\left[  \\log p( x_{1:N}, z) - \\log q(z;\\nu)  \\right] \\right] dz\n",
    "    \\\\\n",
    "    &= \\int_z  \n",
    "            [\\nabla_{\\nu} q(z;\\nu) ] \\cdot \\left(  \\log p( x_{1:N}, z) - \\log q(z;\\nu)  \\right) dz\n",
    "            && \\text{applying inner gradient simplification above}\n",
    "    \\\\ \n",
    "    &= \\int_z  \n",
    "            q(z;\\nu) [\\nabla_{\\nu} \\log q(z;\\nu) ] \\cdot \\left(  \\log p( x_{1:N}, z) - \\log q(z;\\nu)  \\right) dz\n",
    "            && \\text{sub in score function trick}\n",
    "    \\\\ \n",
    "    &= \\mathbb{E}_q \\Bigg[ [\\nabla_{\\nu} \\log q(z;\\nu) ] \\cdot \\left(  \\log p( x_{1:N}, z) - \\log q(z;\\nu) \\right) \\Bigg]\n",
    "    && \\text{by defn of expectation}\n",
    "\\end{align}\n",
    "\n",
    "Now, we have *another* expectation, this time one that is much easier to apply Monte Carlo approximation to\n",
    "\n",
    "\\begin{align}\n",
    "\\nabla_{\\nu} \\text{ELBO}(\\nu) \n",
    "    \\approx \\frac{1}{S} \\sum_{s=1}^S \n",
    "    [\\nabla_{\\nu} \\log q(z^s;\\nu) ] \\cdot \\left(  \\log p( x_{1:N}, z^s) - \\log q(z^s;\\nu) \\right)\n",
    "\\end{align}\n",
    "\n",
    "## Sanity check: Dimensionality\n",
    "\n",
    "The first term inside the sum, $\\nabla_{\\nu} \\log q(z^s;\\nu)$, will be a vector the same size as $\\nu$.\n",
    "\n",
    "The second term, the difference of the logpdf of $p$ and the logpdf of $q$, will be a scalar.\n",
    "\n",
    "The product will thus be a vector of size $\\nu$, which is what we need for a valid gradient wrt $\\nu$\n"
   ]
  },
  {
   "cell_type": "markdown",
   "id": "1e8af8c9",
   "metadata": {},
   "source": [
    "# Implementation Demo\n",
    "\n",
    "We will create a \"toy\" dataset where there's a tough, non-Normal, multi-modal posterior\n",
    "\n",
    "We will then show how to use VI to approximate this posterior, via various Gaussian approximations.\n",
    "\n",
    "We'll use MC-estimated ELBO and check out the MC-estimated gradients using the score function trick.\n",
    "\n",
    "### True model for y given x\n",
    "\n",
    "Suppose we have a univariate features $x_i$ that are densely spaced within the interval (-3, 3).\n",
    "\n",
    "We'll view the features as fixed, and draw the outputs $y$ via the following true model\n",
    "$$\n",
    "y_i \\sim \\mathcal{N}( x_i, 1)\n",
    "$$"
   ]
  },
  {
   "cell_type": "code",
   "execution_count": 6,
   "id": "b5cf840b",
   "metadata": {},
   "outputs": [],
   "source": [
    "prng = np.random.RandomState(101)\n",
    "\n",
    "true_tau = 1.0\n",
    "\n",
    "N = 100\n",
    "\n",
    "x_N = prng.uniform(size=N, low=-3, high=+3)"
   ]
  },
  {
   "cell_type": "code",
   "execution_count": 7,
   "id": "570e7a3e",
   "metadata": {},
   "outputs": [],
   "source": [
    "y_N = prng.normal(x_N, true_tau)"
   ]
  },
  {
   "cell_type": "code",
   "execution_count": 8,
   "id": "d4ec7038",
   "metadata": {},
   "outputs": [
    {
     "data": {
      "text/plain": [
       "[<matplotlib.lines.Line2D at 0x7ffab37d1280>]"
      ]
     },
     "execution_count": 8,
     "metadata": {},
     "output_type": "execute_result"
    },
    {
     "data": {
      "image/png": "[encoded data removed]",
      "text/plain": [
       "<Figure size 432x288 with 1 Axes>"
      ]
     },
     "metadata": {
      "needs_background": "light"
     },
     "output_type": "display_data"
    }
   ],
   "source": [
    "plt.plot(x_N, y_N, 'k.')"
   ]
  },
  {
   "cell_type": "markdown",
   "id": "c621576d",
   "metadata": {},
   "source": [
    "## Model : $p(z, y)$\n",
    "\n",
    "\\begin{align}\n",
    "    z_1 &\\sim \\mathcal{N}(0, 1)\n",
    "    \\\\\n",
    "    z_2 &\\sim \\mathcal{N}(0, 1)\n",
    "    \\\\\n",
    "    y_i | z_1, z_2 &\\sim \\mathcal{N}( z_1 \\cdot z_2 \\cdot x_i, \\tau^2)\n",
    "\\end{align}"
   ]
  },
  {
   "cell_type": "code",
   "execution_count": 9,
   "id": "0bff5090",
   "metadata": {},
   "outputs": [],
   "source": [
    "class ToyModel:\n",
    "\n",
    "    @classmethod\n",
    "    def calc_logpdf_prior__S(self, z_SL):\n",
    "        ''' Compute logpdf of prior at each of S samples of z\n",
    "        \n",
    "        Returns\n",
    "        -------\n",
    "        logpdf_S : 1D array, size (S,)\n",
    "        '''\n",
    "        return jnp.sum(jstats.norm.logpdf(z_SL, 0.0, 1.0), axis=1)\n",
    "    \n",
    "    @classmethod\n",
    "    def calc_logpdf_likelihood__S(self, z_SL, y_N, x_N):\n",
    "        ''' Compute logpdf of likelihood at each of S samples of z\n",
    "\n",
    "        Returns\n",
    "        -------\n",
    "        logpdf_S : 1D array, size (S,)\n",
    "        '''\n",
    "        x_N1 = x_N[:,np.newaxis]\n",
    "        prodz_1S = (z_SL[:,0] * z_SL[:,1])[jnp.newaxis,:]\n",
    "        mean_NS = x_N1 * prodz_1S\n",
    "        return jnp.sum(jstats.norm.logpdf(y_N[:,jnp.newaxis], mean_NS, 1.0), axis=0)"
   ]
  },
  {
   "cell_type": "code",
   "execution_count": 10,
   "id": "46b4a0c2",
   "metadata": {},
   "outputs": [],
   "source": [
    "ToyModel.fast_logpdf_likelihood__S = jax.jit(ToyModel.calc_logpdf_likelihood__S)\n",
    "ToyModel.fast_logpdf_prior__S = jax.jit(ToyModel.calc_logpdf_prior__S)"
   ]
  },
  {
   "cell_type": "markdown",
   "id": "05272621",
   "metadata": {},
   "source": [
    "## Visualizing the posterior"
   ]
  },
  {
   "cell_type": "code",
   "execution_count": 11,
   "id": "9153fc79",
   "metadata": {},
   "outputs": [],
   "source": [
    "G = 99\n",
    "H = 101\n",
    "z0_grid_G = np.linspace(-3, 3, G)\n",
    "z1_grid_H = np.linspace(-3.1, 3.1, H)\n",
    "\n",
    "z1_grid_GH, z0_grid_GH = np.meshgrid(z1_grid_H, z0_grid_G)\n",
    "logpdf_posterior_GH = np.zeros((G,H))\n",
    "\n",
    "z0_S1 = z0_grid_GH.flatten().reshape((G*H, 1))\n",
    "z1_S1 = z1_grid_GH.flatten().reshape((G*H, 1))\n",
    "z_S2 = np.hstack([z0_S1, z1_S1])\n",
    "logpdf_post_S = (\n",
    "    ToyModel.fast_logpdf_likelihood__S(z_S2, y_N, x_N)\n",
    "    + ToyModel.fast_logpdf_prior__S(z_S2))\n",
    "logpdf_post_GH = logpdf_post_S.reshape((G,H))"
   ]
  },
  {
   "cell_type": "markdown",
   "id": "0c9f316b",
   "metadata": {},
   "source": [
    "## View of unnormalized log posterior PDF, default settings for coloring"
   ]
  },
  {
   "cell_type": "code",
   "execution_count": 12,
   "id": "49824578",
   "metadata": {},
   "outputs": [
    {
     "data": {
      "image/png": "[encoded data removed]",
      "text/plain": [
       "<Figure size 432x288 with 2 Axes>"
      ]
     },
     "metadata": {
      "needs_background": "light"
     },
     "output_type": "display_data"
    }
   ],
   "source": [
    "plt.pcolormesh(z0_grid_GH, z1_grid_GH, logpdf_post_GH)\n",
    "plt.xlabel('z_0')\n",
    "plt.ylabel('z_1')\n",
    "plt.colorbar(label='log prior + log lik');"
   ]
  },
  {
   "cell_type": "markdown",
   "id": "d41ee807",
   "metadata": {},
   "source": [
    "## View of unnormalized log posterior PDF, carefully-chosen settings for coloring\n",
    "\n",
    "Key features to notice:\n",
    "\n",
    "* Multimodal\n",
    "* Not gaussian!"
   ]
  },
  {
   "cell_type": "code",
   "execution_count": 13,
   "id": "da64d585",
   "metadata": {},
   "outputs": [
    {
     "data": {
      "image/png": "[encoded data removed]",
      "text/plain": [
       "<Figure size 432x288 with 2 Axes>"
      ]
     },
     "metadata": {
      "needs_background": "light"
     },
     "output_type": "display_data"
    }
   ],
   "source": [
    "plt.pcolormesh(z0_grid_GH, z1_grid_GH, logpdf_post_GH, vmin=-500, vmax=-100)\n",
    "plt.xlabel('z_0')\n",
    "plt.ylabel('z_1')\n",
    "plt.colorbar(label='log prior + log lik');"
   ]
  },
  {
   "cell_type": "markdown",
   "id": "310e00dd",
   "metadata": {},
   "source": [
    "## Approx posterior family: Free means but fixed variance"
   ]
  },
  {
   "cell_type": "code",
   "execution_count": 14,
   "id": "bbe790ed",
   "metadata": {},
   "outputs": [],
   "source": [
    "class QNormalFixedVariance:\n",
    "\n",
    "    fixed_stddev = np.sqrt(0.05)\n",
    "\n",
    "    @classmethod\n",
    "    def calc_sum_logpdf_q(self, z_SL, q_params):\n",
    "        ''' Compute logpdf of q summed over S provided samples of z\n",
    "        \n",
    "        Returns\n",
    "        -------\n",
    "        logpdf : scalar float\n",
    "        '''\n",
    "        mu_L = q_params\n",
    "        return jnp.sum(jstats.norm.logpdf(z_SL, mu_L[jnp.newaxis,:], self.fixed_stddev))\n",
    "        \n",
    "    @classmethod\n",
    "    def calc_logpdf_q__S(self, z_SL, q_params, return_array=False):\n",
    "        ''' Compute logpdf of q at each of S provided samples of z\n",
    "        \n",
    "        Returns\n",
    "        -------\n",
    "        logpdf : 1D array (S,)\n",
    "        '''\n",
    "        mu_L = q_params\n",
    "        return jnp.sum(jstats.norm.logpdf(z_SL, mu_L[jnp.newaxis,:], self.fixed_stddev), axis=1)\n",
    "        \n",
    "    @classmethod\n",
    "    def sample_z(self, q_params, random_state, n_samples=1):\n",
    "        mu_L = q_params\n",
    "        return random_state.normal(mu_L, self.fixed_stddev, size=(n_samples,) + mu_L.shape)\n",
    "    \n",
    "    @classmethod\n",
    "    def initialize(self, z_shape, random_state=101):\n",
    "        return np.zeros(z_shape)"
   ]
  },
  {
   "cell_type": "code",
   "execution_count": 15,
   "id": "d854571d",
   "metadata": {},
   "outputs": [],
   "source": [
    "QNormalFixedVariance.fast_logpdf_q__S = jax.jit(QNormalFixedVariance.calc_logpdf_q__S)"
   ]
  },
  {
   "cell_type": "markdown",
   "id": "b25d5c0b",
   "metadata": {},
   "source": [
    "## Verify the gradient works (shape is correct)"
   ]
  },
  {
   "cell_type": "code",
   "execution_count": 16,
   "id": "4482bfa5",
   "metadata": {},
   "outputs": [],
   "source": [
    "nu_allzeros = QNormalFixedVariance.initialize((2,))"
   ]
  },
  {
   "cell_type": "code",
   "execution_count": 17,
   "id": "bc0bab87",
   "metadata": {},
   "outputs": [],
   "source": [
    "QNormalFixedVariance.calc_grad_of_logpdf_q = jax.grad(QNormalFixedVariance.calc_sum_logpdf_q, argnums=1)"
   ]
  },
  {
   "cell_type": "code",
   "execution_count": 18,
   "id": "2fd66f18",
   "metadata": {},
   "outputs": [],
   "source": [
    "val_and_grad = jax.value_and_grad(QNormalFixedVariance.calc_sum_logpdf_q, argnums=1)"
   ]
  },
  {
   "cell_type": "code",
   "execution_count": 19,
   "id": "78363b08",
   "metadata": {},
   "outputs": [],
   "source": [
    "z_SL = QNormalFixedVariance.sample_z(nu_allzeros, prng, n_samples=1)"
   ]
  },
  {
   "cell_type": "code",
   "execution_count": 21,
   "id": "bb8bbe9f",
   "metadata": {},
   "outputs": [
    {
     "data": {
      "text/plain": [
       "(DeviceArray(-1.4491026, dtype=float32),\n",
       " DeviceArray([ 9.076398, -4.679457], dtype=float32))"
      ]
     },
     "execution_count": 21,
     "metadata": {},
     "output_type": "execute_result"
    }
   ],
   "source": [
    "val_and_grad(z_SL, nu_allzeros)"
   ]
  },
  {
   "cell_type": "markdown",
   "id": "13a4246b",
   "metadata": {},
   "source": [
    "## ELBO calculation via MC approximation\n",
    "\n",
    "We'll draw S samples of z from q, and use these to approximate the ELBO"
   ]
  },
  {
   "cell_type": "code",
   "execution_count": 22,
   "id": "8e10ead0",
   "metadata": {},
   "outputs": [],
   "source": [
    "def calc_ELBO_via_montecarlo(q_params, Model, Q, n_samples=100, random_state=np.random):\n",
    "    z_SL = Q.sample_z(q_params, n_samples=n_samples, random_state=random_state)\n",
    "    \n",
    "    Eq_logpdf_lik_S = Model.fast_logpdf_likelihood__S(z_SL, y_N, x_N)\n",
    "    Eq_logpdf_prior_S = Model.fast_logpdf_prior__S(z_SL)\n",
    "    Eq_logpdf_q_S = Q.fast_logpdf_q__S(z_SL, q_params)\n",
    "    \n",
    "    elbo_S = Eq_logpdf_lik_S + Eq_logpdf_prior_S - Eq_logpdf_q_S\n",
    "    return jnp.mean(elbo_S)"
   ]
  },
  {
   "cell_type": "code",
   "execution_count": 23,
   "id": "124cbeba",
   "metadata": {},
   "outputs": [],
   "source": [
    "nu_allones = np.ones(2)"
   ]
  },
  {
   "cell_type": "code",
   "execution_count": 24,
   "id": "5d86e67f",
   "metadata": {},
   "outputs": [
    {
     "data": {
      "text/plain": [
       "DeviceArray(-160.04965, dtype=float32)"
      ]
     },
     "execution_count": 24,
     "metadata": {},
     "output_type": "execute_result"
    }
   ],
   "source": [
    "calc_ELBO_via_montecarlo(nu_allones, ToyModel, QNormalFixedVariance, n_samples=1000, random_state=prng)"
   ]
  },
  {
   "cell_type": "markdown",
   "id": "e1fc16ad",
   "metadata": {},
   "source": [
    "## Sanity check of the ELBO as a function of $\\mu_1, \\mu_2$"
   ]
  },
  {
   "cell_type": "code",
   "execution_count": 25,
   "id": "1b78c925",
   "metadata": {},
   "outputs": [],
   "source": [
    "S = 1000\n",
    "\n",
    "G = 99\n",
    "H = 101\n",
    "mu0_grid_G = np.linspace(-3, 3, G)\n",
    "mu1_grid_H = np.linspace(-3.1, 3.1, H)\n",
    "\n",
    "mu1_grid_GH, mu0_grid_GH = np.meshgrid(mu1_grid_H, mu0_grid_G)\n",
    "elbo_GH = np.zeros((G,H))\n",
    "for gg in range(G):\n",
    "    for hh in range(H):\n",
    "        q_params = np.asarray([mu0_grid_G[gg], mu1_grid_H[hh]])\n",
    "        elbo_GH[gg, hh] = calc_ELBO_via_montecarlo(\n",
    "            q_params, ToyModel, QNormalFixedVariance, n_samples=S, random_state=prng)"
   ]
  },
  {
   "cell_type": "code",
   "execution_count": 26,
   "id": "5eebe5f1",
   "metadata": {},
   "outputs": [
    {
     "data": {
      "image/png": "[encoded data removed]",
      "text/plain": [
       "<Figure size 432x288 with 2 Axes>"
      ]
     },
     "metadata": {
      "needs_background": "light"
     },
     "output_type": "display_data"
    }
   ],
   "source": [
    "plt.pcolormesh(mu0_grid_GH, mu1_grid_GH, elbo_GH, vmin=-400, vmax=-100.)\n",
    "plt.xlabel(r'$\\mu_0$')\n",
    "plt.ylabel(r'$\\mu_1$')\n",
    "plt.colorbar(label='MC ELBO (S=%d)' % (S));"
   ]
  },
  {
   "cell_type": "markdown",
   "id": "9f3bd3f8",
   "metadata": {},
   "source": [
    "## Gradient calculation, vectorized"
   ]
  },
  {
   "cell_type": "code",
   "execution_count": 27,
   "id": "4e40e463",
   "metadata": {},
   "outputs": [],
   "source": [
    "def calc_grad_of_logpdf_q__SL(z_SL, nu_L):\n",
    "    # Be sure to gradient wrt SECOND argument (index argnums=1)\n",
    "    grad_wrt_nu = jax.grad(QNormalFixedVariance.calc_sum_logpdf_q, argnums=1)\n",
    "    vectorized_grad_wrt_nu = jax.vmap(grad_wrt_nu)\n",
    "    S = z_SL.shape[0]\n",
    "    nu_SL = jnp.tile(nu_L, (S,1))\n",
    "    return vectorized_grad_wrt_nu(z_SL, nu_SL)\n",
    "\n",
    "QNormalFixedVariance.calc_grad_of_logpdf_q__SL = calc_grad_of_logpdf_q__SL"
   ]
  },
  {
   "cell_type": "code",
   "execution_count": 28,
   "id": "3953d840",
   "metadata": {},
   "outputs": [
    {
     "data": {
      "text/plain": [
       "DeviceArray([[-80.00001 , -82.00001 ],\n",
       "             [-80.00001 , -80.76001 ],\n",
       "             [-80.00001 , -79.52001 ],\n",
       "             [-80.00001 , -78.28001 ],\n",
       "             [-80.00001 , -77.04001 ],\n",
       "             [-80.00001 , -75.8     ],\n",
       "             [-80.00001 , -74.560005],\n",
       "             [-80.00001 , -73.32001 ],\n",
       "             [-80.00001 , -72.08001 ]], dtype=float32)"
      ]
     },
     "execution_count": 28,
     "metadata": {},
     "output_type": "execute_result"
    }
   ],
   "source": [
    "calc_grad_of_logpdf_q__SL(z_S2[:9], np.ones((2,)))"
   ]
  },
  {
   "cell_type": "markdown",
   "id": "e1a7a59e",
   "metadata": {},
   "source": [
    "## Gradient of the ELBO"
   ]
  },
  {
   "cell_type": "code",
   "execution_count": 29,
   "id": "d4c0609b",
   "metadata": {},
   "outputs": [],
   "source": [
    "def calc_grad_of_ELBO_via_montecarlo(q_params, Model, Q, n_samples=100, random_state=np.random):\n",
    "    z_SL = Q.sample_z(q_params, n_samples=n_samples, random_state=random_state)\n",
    "    \n",
    "    Eq_logpdf_lik_S = Model.fast_logpdf_likelihood__S(z_SL, y_N, x_N)\n",
    "    Eq_logpdf_prior_S = Model.fast_logpdf_prior__S(z_SL)\n",
    "    Eq_logpdf_q_S = Q.fast_logpdf_q__S(z_SL, q_params)\n",
    "    \n",
    "    elbo_S = Eq_logpdf_lik_S + Eq_logpdf_prior_S - Eq_logpdf_q_S\n",
    "\n",
    "    g_SL = QNormalFixedVariance.calc_grad_of_logpdf_q__SL(z_SL, q_params)\n",
    "    \n",
    "    return jnp.mean(g_SL * elbo_S[:,jnp.newaxis], axis=0)"
   ]
  },
  {
   "cell_type": "markdown",
   "id": "4dd34d06",
   "metadata": {},
   "source": [
    "### Try at nu = [1., 1.] which should be a local optima"
   ]
  },
  {
   "cell_type": "code",
   "execution_count": 30,
   "id": "d6426f62",
   "metadata": {},
   "outputs": [
    {
     "data": {
      "text/plain": [
       "array([1., 1.])"
      ]
     },
     "execution_count": 30,
     "metadata": {},
     "output_type": "execute_result"
    }
   ],
   "source": [
    "nu_allones"
   ]
  },
  {
   "cell_type": "code",
   "execution_count": 31,
   "id": "d48b7156",
   "metadata": {},
   "outputs": [
    {
     "name": "stdout",
     "output_type": "stream",
     "text": [
      "[-6.919244   2.0065045]\n",
      "[ 4.178627 -8.215367]\n",
      "[-8.689006 -8.941906]\n"
     ]
    }
   ],
   "source": [
    "for rep in range(3):\n",
    "    print(calc_grad_of_ELBO_via_montecarlo(nu_allones, ToyModel, QNormalFixedVariance, 10000, prng))"
   ]
  },
  {
   "cell_type": "markdown",
   "id": "9669304e",
   "metadata": {},
   "source": [
    "## Try at nu = [3, 3]"
   ]
  },
  {
   "cell_type": "code",
   "execution_count": 32,
   "id": "4e3f48e2",
   "metadata": {},
   "outputs": [
    {
     "data": {
      "text/plain": [
       "array([3., 3.])"
      ]
     },
     "execution_count": 32,
     "metadata": {},
     "output_type": "execute_result"
    }
   ],
   "source": [
    "3 * nu_allones"
   ]
  },
  {
   "cell_type": "code",
   "execution_count": 33,
   "id": "b391a7a1",
   "metadata": {},
   "outputs": [
    {
     "name": "stdout",
     "output_type": "stream",
     "text": [
      "[-7272.7812 -6881.296 ]\n",
      "[-7144.176 -7324.575]\n",
      "[-6594.08   -6655.5044]\n"
     ]
    }
   ],
   "source": [
    "for rep in range(3):\n",
    "    print(calc_grad_of_ELBO_via_montecarlo(3 * nu_allones, ToyModel, QNormalFixedVariance, 10000, prng))"
   ]
  },
  {
   "cell_type": "markdown",
   "id": "fd3c90e8",
   "metadata": {},
   "source": [
    "## Try at nu = [0.1, 0.1]"
   ]
  },
  {
   "cell_type": "code",
   "execution_count": 34,
   "id": "87c1b4a6",
   "metadata": {},
   "outputs": [
    {
     "data": {
      "text/plain": [
       "array([0.1, 0.1])"
      ]
     },
     "execution_count": 34,
     "metadata": {},
     "output_type": "execute_result"
    }
   ],
   "source": [
    "0.1 * nu_allones"
   ]
  },
  {
   "cell_type": "code",
   "execution_count": 35,
   "id": "95d1cbe8",
   "metadata": {},
   "outputs": [
    {
     "name": "stdout",
     "output_type": "stream",
     "text": [
      "[24.31549   8.464051]\n",
      "[34.289463 18.416159]\n",
      "[18.72343  27.102524]\n"
     ]
    }
   ],
   "source": [
    "for rep in range(3):\n",
    "    print(calc_grad_of_ELBO_via_montecarlo(0.1 * nu_allones, ToyModel, QNormalFixedVariance, 10000, prng))"
   ]
  },
  {
   "cell_type": "code",
   "execution_count": null,
   "id": "d6afd180",
   "metadata": {},
   "outputs": [],
   "source": []
  },
  {
   "cell_type": "code",
   "execution_count": null,
   "id": "03f55532",
   "metadata": {},
   "outputs": [],
   "source": []
  }
 ],
 "metadata": {
  "kernelspec": {
   "display_name": "Python 3 (ipykernel)",
   "language": "python",
   "name": "python3"
  },
  "language_info": {
   "codemirror_mode": {
    "name": "ipython",
    "version": 3
   },
   "file_extension": ".py",
   "mimetype": "text/x-python",
   "name": "python",
   "nbconvert_exporter": "python",
   "pygments_lexer": "ipython3",
   "version": "3.8.0"
  }
 },
 "nbformat": 4,
 "nbformat_minor": 5
}
